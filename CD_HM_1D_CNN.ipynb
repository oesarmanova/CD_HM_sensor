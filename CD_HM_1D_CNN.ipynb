{
  "nbformat": 4,
  "nbformat_minor": 0,
  "metadata": {
    "colab": {
      "name": "CD_HM_1D_CNN.ipynb",
      "provenance": [],
      "collapsed_sections": []
    },
    "kernelspec": {
      "name": "python3",
      "display_name": "Python 3"
    },
    "language_info": {
      "name": "python"
    },
    "widgets": {
      "application/vnd.jupyter.widget-state+json": {
        "310a13c634e7427aacebe952ce22d34a": {
          "model_module": "@jupyter-widgets/controls",
          "model_name": "VBoxModel",
          "model_module_version": "1.5.0",
          "state": {
            "_view_name": "VBoxView",
            "_dom_classes": [],
            "_model_name": "VBoxModel",
            "_view_module": "@jupyter-widgets/controls",
            "_model_module_version": "1.5.0",
            "_view_count": null,
            "_view_module_version": "1.5.0",
            "box_style": "",
            "layout": "IPY_MODEL_07e0da42585947aab52a8e9354569585",
            "_model_module": "@jupyter-widgets/controls",
            "children": [
              "IPY_MODEL_dec667e8410f4b7aa599940af0cc1da7",
              "IPY_MODEL_ae0c0c198501441bbf4b9be737db1ccb"
            ]
          }
        },
        "07e0da42585947aab52a8e9354569585": {
          "model_module": "@jupyter-widgets/base",
          "model_name": "LayoutModel",
          "model_module_version": "1.2.0",
          "state": {
            "_view_name": "LayoutView",
            "grid_template_rows": null,
            "right": null,
            "justify_content": null,
            "_view_module": "@jupyter-widgets/base",
            "overflow": null,
            "_model_module_version": "1.2.0",
            "_view_count": null,
            "flex_flow": null,
            "width": null,
            "min_width": null,
            "border": null,
            "align_items": null,
            "bottom": null,
            "_model_module": "@jupyter-widgets/base",
            "top": null,
            "grid_column": null,
            "overflow_y": null,
            "overflow_x": null,
            "grid_auto_flow": null,
            "grid_area": null,
            "grid_template_columns": null,
            "flex": null,
            "_model_name": "LayoutModel",
            "justify_items": null,
            "grid_row": null,
            "max_height": null,
            "align_content": null,
            "visibility": null,
            "align_self": null,
            "height": null,
            "min_height": null,
            "padding": null,
            "grid_auto_rows": null,
            "grid_gap": null,
            "max_width": null,
            "order": null,
            "_view_module_version": "1.2.0",
            "grid_template_areas": null,
            "object_position": null,
            "object_fit": null,
            "grid_auto_columns": null,
            "margin": null,
            "display": null,
            "left": null
          }
        },
        "dec667e8410f4b7aa599940af0cc1da7": {
          "model_module": "@jupyter-widgets/controls",
          "model_name": "LabelModel",
          "model_module_version": "1.5.0",
          "state": {
            "_view_name": "LabelView",
            "style": "IPY_MODEL_9bc09191c11c42bf8b20aa2a048a56d2",
            "_dom_classes": [],
            "description": "",
            "_model_name": "LabelModel",
            "placeholder": "​",
            "_view_module": "@jupyter-widgets/controls",
            "_model_module_version": "1.5.0",
            "value": " 0.01MB of 0.01MB uploaded (0.00MB deduped)\r",
            "_view_count": null,
            "_view_module_version": "1.5.0",
            "description_tooltip": null,
            "_model_module": "@jupyter-widgets/controls",
            "layout": "IPY_MODEL_ccc7bd48e2fe459bb8a1c1134195cf1f"
          }
        },
        "ae0c0c198501441bbf4b9be737db1ccb": {
          "model_module": "@jupyter-widgets/controls",
          "model_name": "FloatProgressModel",
          "model_module_version": "1.5.0",
          "state": {
            "_view_name": "ProgressView",
            "style": "IPY_MODEL_c1bdfc3ad8d84d18941e2dd5c7119e68",
            "_dom_classes": [],
            "description": "",
            "_model_name": "FloatProgressModel",
            "bar_style": "",
            "max": 1,
            "_view_module": "@jupyter-widgets/controls",
            "_model_module_version": "1.5.0",
            "value": 1,
            "_view_count": null,
            "_view_module_version": "1.5.0",
            "orientation": "horizontal",
            "min": 0,
            "description_tooltip": null,
            "_model_module": "@jupyter-widgets/controls",
            "layout": "IPY_MODEL_99a0f7a4ddde4d95b18e530070c87642"
          }
        },
        "9bc09191c11c42bf8b20aa2a048a56d2": {
          "model_module": "@jupyter-widgets/controls",
          "model_name": "DescriptionStyleModel",
          "model_module_version": "1.5.0",
          "state": {
            "_view_name": "StyleView",
            "_model_name": "DescriptionStyleModel",
            "description_width": "",
            "_view_module": "@jupyter-widgets/base",
            "_model_module_version": "1.5.0",
            "_view_count": null,
            "_view_module_version": "1.2.0",
            "_model_module": "@jupyter-widgets/controls"
          }
        },
        "ccc7bd48e2fe459bb8a1c1134195cf1f": {
          "model_module": "@jupyter-widgets/base",
          "model_name": "LayoutModel",
          "model_module_version": "1.2.0",
          "state": {
            "_view_name": "LayoutView",
            "grid_template_rows": null,
            "right": null,
            "justify_content": null,
            "_view_module": "@jupyter-widgets/base",
            "overflow": null,
            "_model_module_version": "1.2.0",
            "_view_count": null,
            "flex_flow": null,
            "width": null,
            "min_width": null,
            "border": null,
            "align_items": null,
            "bottom": null,
            "_model_module": "@jupyter-widgets/base",
            "top": null,
            "grid_column": null,
            "overflow_y": null,
            "overflow_x": null,
            "grid_auto_flow": null,
            "grid_area": null,
            "grid_template_columns": null,
            "flex": null,
            "_model_name": "LayoutModel",
            "justify_items": null,
            "grid_row": null,
            "max_height": null,
            "align_content": null,
            "visibility": null,
            "align_self": null,
            "height": null,
            "min_height": null,
            "padding": null,
            "grid_auto_rows": null,
            "grid_gap": null,
            "max_width": null,
            "order": null,
            "_view_module_version": "1.2.0",
            "grid_template_areas": null,
            "object_position": null,
            "object_fit": null,
            "grid_auto_columns": null,
            "margin": null,
            "display": null,
            "left": null
          }
        },
        "c1bdfc3ad8d84d18941e2dd5c7119e68": {
          "model_module": "@jupyter-widgets/controls",
          "model_name": "ProgressStyleModel",
          "model_module_version": "1.5.0",
          "state": {
            "_view_name": "StyleView",
            "_model_name": "ProgressStyleModel",
            "description_width": "",
            "_view_module": "@jupyter-widgets/base",
            "_model_module_version": "1.5.0",
            "_view_count": null,
            "_view_module_version": "1.2.0",
            "bar_color": null,
            "_model_module": "@jupyter-widgets/controls"
          }
        },
        "99a0f7a4ddde4d95b18e530070c87642": {
          "model_module": "@jupyter-widgets/base",
          "model_name": "LayoutModel",
          "model_module_version": "1.2.0",
          "state": {
            "_view_name": "LayoutView",
            "grid_template_rows": null,
            "right": null,
            "justify_content": null,
            "_view_module": "@jupyter-widgets/base",
            "overflow": null,
            "_model_module_version": "1.2.0",
            "_view_count": null,
            "flex_flow": null,
            "width": null,
            "min_width": null,
            "border": null,
            "align_items": null,
            "bottom": null,
            "_model_module": "@jupyter-widgets/base",
            "top": null,
            "grid_column": null,
            "overflow_y": null,
            "overflow_x": null,
            "grid_auto_flow": null,
            "grid_area": null,
            "grid_template_columns": null,
            "flex": null,
            "_model_name": "LayoutModel",
            "justify_items": null,
            "grid_row": null,
            "max_height": null,
            "align_content": null,
            "visibility": null,
            "align_self": null,
            "height": null,
            "min_height": null,
            "padding": null,
            "grid_auto_rows": null,
            "grid_gap": null,
            "max_width": null,
            "order": null,
            "_view_module_version": "1.2.0",
            "grid_template_areas": null,
            "object_position": null,
            "object_fit": null,
            "grid_auto_columns": null,
            "margin": null,
            "display": null,
            "left": null
          }
        },
        "3f91979e7628445dba420710f9c688e2": {
          "model_module": "@jupyter-widgets/controls",
          "model_name": "VBoxModel",
          "model_module_version": "1.5.0",
          "state": {
            "_view_name": "VBoxView",
            "_dom_classes": [],
            "_model_name": "VBoxModel",
            "_view_module": "@jupyter-widgets/controls",
            "_model_module_version": "1.5.0",
            "_view_count": null,
            "_view_module_version": "1.5.0",
            "box_style": "",
            "layout": "IPY_MODEL_2b8de07d46f648df8f8713f5fd6f4e14",
            "_model_module": "@jupyter-widgets/controls",
            "children": [
              "IPY_MODEL_45d254c052674c3992a57f39fd882577",
              "IPY_MODEL_cf9a3627d2a54c9c9ece0a77256f546c"
            ]
          }
        },
        "2b8de07d46f648df8f8713f5fd6f4e14": {
          "model_module": "@jupyter-widgets/base",
          "model_name": "LayoutModel",
          "model_module_version": "1.2.0",
          "state": {
            "_view_name": "LayoutView",
            "grid_template_rows": null,
            "right": null,
            "justify_content": null,
            "_view_module": "@jupyter-widgets/base",
            "overflow": null,
            "_model_module_version": "1.2.0",
            "_view_count": null,
            "flex_flow": null,
            "width": null,
            "min_width": null,
            "border": null,
            "align_items": null,
            "bottom": null,
            "_model_module": "@jupyter-widgets/base",
            "top": null,
            "grid_column": null,
            "overflow_y": null,
            "overflow_x": null,
            "grid_auto_flow": null,
            "grid_area": null,
            "grid_template_columns": null,
            "flex": null,
            "_model_name": "LayoutModel",
            "justify_items": null,
            "grid_row": null,
            "max_height": null,
            "align_content": null,
            "visibility": null,
            "align_self": null,
            "height": null,
            "min_height": null,
            "padding": null,
            "grid_auto_rows": null,
            "grid_gap": null,
            "max_width": null,
            "order": null,
            "_view_module_version": "1.2.0",
            "grid_template_areas": null,
            "object_position": null,
            "object_fit": null,
            "grid_auto_columns": null,
            "margin": null,
            "display": null,
            "left": null
          }
        },
        "45d254c052674c3992a57f39fd882577": {
          "model_module": "@jupyter-widgets/controls",
          "model_name": "LabelModel",
          "model_module_version": "1.5.0",
          "state": {
            "_view_name": "LabelView",
            "style": "IPY_MODEL_40af84a179634e9abd80c2d85108114a",
            "_dom_classes": [],
            "description": "",
            "_model_name": "LabelModel",
            "placeholder": "​",
            "_view_module": "@jupyter-widgets/controls",
            "_model_module_version": "1.5.0",
            "value": " 0.01MB of 0.01MB uploaded (0.00MB deduped)\r",
            "_view_count": null,
            "_view_module_version": "1.5.0",
            "description_tooltip": null,
            "_model_module": "@jupyter-widgets/controls",
            "layout": "IPY_MODEL_576128556eab4d3cb23763d5ff51641c"
          }
        },
        "cf9a3627d2a54c9c9ece0a77256f546c": {
          "model_module": "@jupyter-widgets/controls",
          "model_name": "FloatProgressModel",
          "model_module_version": "1.5.0",
          "state": {
            "_view_name": "ProgressView",
            "style": "IPY_MODEL_7330df935aaa4f929d3d9c186e6b78e5",
            "_dom_classes": [],
            "description": "",
            "_model_name": "FloatProgressModel",
            "bar_style": "",
            "max": 1,
            "_view_module": "@jupyter-widgets/controls",
            "_model_module_version": "1.5.0",
            "value": 1,
            "_view_count": null,
            "_view_module_version": "1.5.0",
            "orientation": "horizontal",
            "min": 0,
            "description_tooltip": null,
            "_model_module": "@jupyter-widgets/controls",
            "layout": "IPY_MODEL_fd5be981f5ce4fec9f916c5a047213b8"
          }
        },
        "40af84a179634e9abd80c2d85108114a": {
          "model_module": "@jupyter-widgets/controls",
          "model_name": "DescriptionStyleModel",
          "model_module_version": "1.5.0",
          "state": {
            "_view_name": "StyleView",
            "_model_name": "DescriptionStyleModel",
            "description_width": "",
            "_view_module": "@jupyter-widgets/base",
            "_model_module_version": "1.5.0",
            "_view_count": null,
            "_view_module_version": "1.2.0",
            "_model_module": "@jupyter-widgets/controls"
          }
        },
        "576128556eab4d3cb23763d5ff51641c": {
          "model_module": "@jupyter-widgets/base",
          "model_name": "LayoutModel",
          "model_module_version": "1.2.0",
          "state": {
            "_view_name": "LayoutView",
            "grid_template_rows": null,
            "right": null,
            "justify_content": null,
            "_view_module": "@jupyter-widgets/base",
            "overflow": null,
            "_model_module_version": "1.2.0",
            "_view_count": null,
            "flex_flow": null,
            "width": null,
            "min_width": null,
            "border": null,
            "align_items": null,
            "bottom": null,
            "_model_module": "@jupyter-widgets/base",
            "top": null,
            "grid_column": null,
            "overflow_y": null,
            "overflow_x": null,
            "grid_auto_flow": null,
            "grid_area": null,
            "grid_template_columns": null,
            "flex": null,
            "_model_name": "LayoutModel",
            "justify_items": null,
            "grid_row": null,
            "max_height": null,
            "align_content": null,
            "visibility": null,
            "align_self": null,
            "height": null,
            "min_height": null,
            "padding": null,
            "grid_auto_rows": null,
            "grid_gap": null,
            "max_width": null,
            "order": null,
            "_view_module_version": "1.2.0",
            "grid_template_areas": null,
            "object_position": null,
            "object_fit": null,
            "grid_auto_columns": null,
            "margin": null,
            "display": null,
            "left": null
          }
        },
        "7330df935aaa4f929d3d9c186e6b78e5": {
          "model_module": "@jupyter-widgets/controls",
          "model_name": "ProgressStyleModel",
          "model_module_version": "1.5.0",
          "state": {
            "_view_name": "StyleView",
            "_model_name": "ProgressStyleModel",
            "description_width": "",
            "_view_module": "@jupyter-widgets/base",
            "_model_module_version": "1.5.0",
            "_view_count": null,
            "_view_module_version": "1.2.0",
            "bar_color": null,
            "_model_module": "@jupyter-widgets/controls"
          }
        },
        "fd5be981f5ce4fec9f916c5a047213b8": {
          "model_module": "@jupyter-widgets/base",
          "model_name": "LayoutModel",
          "model_module_version": "1.2.0",
          "state": {
            "_view_name": "LayoutView",
            "grid_template_rows": null,
            "right": null,
            "justify_content": null,
            "_view_module": "@jupyter-widgets/base",
            "overflow": null,
            "_model_module_version": "1.2.0",
            "_view_count": null,
            "flex_flow": null,
            "width": null,
            "min_width": null,
            "border": null,
            "align_items": null,
            "bottom": null,
            "_model_module": "@jupyter-widgets/base",
            "top": null,
            "grid_column": null,
            "overflow_y": null,
            "overflow_x": null,
            "grid_auto_flow": null,
            "grid_area": null,
            "grid_template_columns": null,
            "flex": null,
            "_model_name": "LayoutModel",
            "justify_items": null,
            "grid_row": null,
            "max_height": null,
            "align_content": null,
            "visibility": null,
            "align_self": null,
            "height": null,
            "min_height": null,
            "padding": null,
            "grid_auto_rows": null,
            "grid_gap": null,
            "max_width": null,
            "order": null,
            "_view_module_version": "1.2.0",
            "grid_template_areas": null,
            "object_position": null,
            "object_fit": null,
            "grid_auto_columns": null,
            "margin": null,
            "display": null,
            "left": null
          }
        },
        "310e828ca5f943b69ceb93b33c247707": {
          "model_module": "@jupyter-widgets/controls",
          "model_name": "VBoxModel",
          "model_module_version": "1.5.0",
          "state": {
            "_view_name": "VBoxView",
            "_dom_classes": [],
            "_model_name": "VBoxModel",
            "_view_module": "@jupyter-widgets/controls",
            "_model_module_version": "1.5.0",
            "_view_count": null,
            "_view_module_version": "1.5.0",
            "box_style": "",
            "layout": "IPY_MODEL_9d528d71f43a442886bd19113199ec0b",
            "_model_module": "@jupyter-widgets/controls",
            "children": [
              "IPY_MODEL_58ceb07842234844beb9564b091b5327",
              "IPY_MODEL_0bc289d61d5245c9bc10d087377c6fe9"
            ]
          }
        },
        "9d528d71f43a442886bd19113199ec0b": {
          "model_module": "@jupyter-widgets/base",
          "model_name": "LayoutModel",
          "model_module_version": "1.2.0",
          "state": {
            "_view_name": "LayoutView",
            "grid_template_rows": null,
            "right": null,
            "justify_content": null,
            "_view_module": "@jupyter-widgets/base",
            "overflow": null,
            "_model_module_version": "1.2.0",
            "_view_count": null,
            "flex_flow": null,
            "width": null,
            "min_width": null,
            "border": null,
            "align_items": null,
            "bottom": null,
            "_model_module": "@jupyter-widgets/base",
            "top": null,
            "grid_column": null,
            "overflow_y": null,
            "overflow_x": null,
            "grid_auto_flow": null,
            "grid_area": null,
            "grid_template_columns": null,
            "flex": null,
            "_model_name": "LayoutModel",
            "justify_items": null,
            "grid_row": null,
            "max_height": null,
            "align_content": null,
            "visibility": null,
            "align_self": null,
            "height": null,
            "min_height": null,
            "padding": null,
            "grid_auto_rows": null,
            "grid_gap": null,
            "max_width": null,
            "order": null,
            "_view_module_version": "1.2.0",
            "grid_template_areas": null,
            "object_position": null,
            "object_fit": null,
            "grid_auto_columns": null,
            "margin": null,
            "display": null,
            "left": null
          }
        },
        "58ceb07842234844beb9564b091b5327": {
          "model_module": "@jupyter-widgets/controls",
          "model_name": "LabelModel",
          "model_module_version": "1.5.0",
          "state": {
            "_view_name": "LabelView",
            "style": "IPY_MODEL_8106ac4de54d442d8cf8db3bcd8b36a8",
            "_dom_classes": [],
            "description": "",
            "_model_name": "LabelModel",
            "placeholder": "​",
            "_view_module": "@jupyter-widgets/controls",
            "_model_module_version": "1.5.0",
            "value": " 0.01MB of 0.01MB uploaded (0.00MB deduped)\r",
            "_view_count": null,
            "_view_module_version": "1.5.0",
            "description_tooltip": null,
            "_model_module": "@jupyter-widgets/controls",
            "layout": "IPY_MODEL_25ff87708eba4114b576e140b8f87435"
          }
        },
        "0bc289d61d5245c9bc10d087377c6fe9": {
          "model_module": "@jupyter-widgets/controls",
          "model_name": "FloatProgressModel",
          "model_module_version": "1.5.0",
          "state": {
            "_view_name": "ProgressView",
            "style": "IPY_MODEL_92afff3e416142fda46c97fb61364423",
            "_dom_classes": [],
            "description": "",
            "_model_name": "FloatProgressModel",
            "bar_style": "",
            "max": 1,
            "_view_module": "@jupyter-widgets/controls",
            "_model_module_version": "1.5.0",
            "value": 1,
            "_view_count": null,
            "_view_module_version": "1.5.0",
            "orientation": "horizontal",
            "min": 0,
            "description_tooltip": null,
            "_model_module": "@jupyter-widgets/controls",
            "layout": "IPY_MODEL_df1b755f36894fc8841a59c65a7c8e68"
          }
        },
        "8106ac4de54d442d8cf8db3bcd8b36a8": {
          "model_module": "@jupyter-widgets/controls",
          "model_name": "DescriptionStyleModel",
          "model_module_version": "1.5.0",
          "state": {
            "_view_name": "StyleView",
            "_model_name": "DescriptionStyleModel",
            "description_width": "",
            "_view_module": "@jupyter-widgets/base",
            "_model_module_version": "1.5.0",
            "_view_count": null,
            "_view_module_version": "1.2.0",
            "_model_module": "@jupyter-widgets/controls"
          }
        },
        "25ff87708eba4114b576e140b8f87435": {
          "model_module": "@jupyter-widgets/base",
          "model_name": "LayoutModel",
          "model_module_version": "1.2.0",
          "state": {
            "_view_name": "LayoutView",
            "grid_template_rows": null,
            "right": null,
            "justify_content": null,
            "_view_module": "@jupyter-widgets/base",
            "overflow": null,
            "_model_module_version": "1.2.0",
            "_view_count": null,
            "flex_flow": null,
            "width": null,
            "min_width": null,
            "border": null,
            "align_items": null,
            "bottom": null,
            "_model_module": "@jupyter-widgets/base",
            "top": null,
            "grid_column": null,
            "overflow_y": null,
            "overflow_x": null,
            "grid_auto_flow": null,
            "grid_area": null,
            "grid_template_columns": null,
            "flex": null,
            "_model_name": "LayoutModel",
            "justify_items": null,
            "grid_row": null,
            "max_height": null,
            "align_content": null,
            "visibility": null,
            "align_self": null,
            "height": null,
            "min_height": null,
            "padding": null,
            "grid_auto_rows": null,
            "grid_gap": null,
            "max_width": null,
            "order": null,
            "_view_module_version": "1.2.0",
            "grid_template_areas": null,
            "object_position": null,
            "object_fit": null,
            "grid_auto_columns": null,
            "margin": null,
            "display": null,
            "left": null
          }
        },
        "92afff3e416142fda46c97fb61364423": {
          "model_module": "@jupyter-widgets/controls",
          "model_name": "ProgressStyleModel",
          "model_module_version": "1.5.0",
          "state": {
            "_view_name": "StyleView",
            "_model_name": "ProgressStyleModel",
            "description_width": "",
            "_view_module": "@jupyter-widgets/base",
            "_model_module_version": "1.5.0",
            "_view_count": null,
            "_view_module_version": "1.2.0",
            "bar_color": null,
            "_model_module": "@jupyter-widgets/controls"
          }
        },
        "df1b755f36894fc8841a59c65a7c8e68": {
          "model_module": "@jupyter-widgets/base",
          "model_name": "LayoutModel",
          "model_module_version": "1.2.0",
          "state": {
            "_view_name": "LayoutView",
            "grid_template_rows": null,
            "right": null,
            "justify_content": null,
            "_view_module": "@jupyter-widgets/base",
            "overflow": null,
            "_model_module_version": "1.2.0",
            "_view_count": null,
            "flex_flow": null,
            "width": null,
            "min_width": null,
            "border": null,
            "align_items": null,
            "bottom": null,
            "_model_module": "@jupyter-widgets/base",
            "top": null,
            "grid_column": null,
            "overflow_y": null,
            "overflow_x": null,
            "grid_auto_flow": null,
            "grid_area": null,
            "grid_template_columns": null,
            "flex": null,
            "_model_name": "LayoutModel",
            "justify_items": null,
            "grid_row": null,
            "max_height": null,
            "align_content": null,
            "visibility": null,
            "align_self": null,
            "height": null,
            "min_height": null,
            "padding": null,
            "grid_auto_rows": null,
            "grid_gap": null,
            "max_width": null,
            "order": null,
            "_view_module_version": "1.2.0",
            "grid_template_areas": null,
            "object_position": null,
            "object_fit": null,
            "grid_auto_columns": null,
            "margin": null,
            "display": null,
            "left": null
          }
        },
        "be3c92e6fdb24a479e26404850956dac": {
          "model_module": "@jupyter-widgets/controls",
          "model_name": "VBoxModel",
          "model_module_version": "1.5.0",
          "state": {
            "_view_name": "VBoxView",
            "_dom_classes": [],
            "_model_name": "VBoxModel",
            "_view_module": "@jupyter-widgets/controls",
            "_model_module_version": "1.5.0",
            "_view_count": null,
            "_view_module_version": "1.5.0",
            "box_style": "",
            "layout": "IPY_MODEL_9946b13689cc436c8d3093af68ae0012",
            "_model_module": "@jupyter-widgets/controls",
            "children": [
              "IPY_MODEL_ed9e3962ffb94bff9d7fb1af19b0ed99",
              "IPY_MODEL_32b6c314ae2f4b138a0390455d92ba39"
            ]
          }
        },
        "9946b13689cc436c8d3093af68ae0012": {
          "model_module": "@jupyter-widgets/base",
          "model_name": "LayoutModel",
          "model_module_version": "1.2.0",
          "state": {
            "_view_name": "LayoutView",
            "grid_template_rows": null,
            "right": null,
            "justify_content": null,
            "_view_module": "@jupyter-widgets/base",
            "overflow": null,
            "_model_module_version": "1.2.0",
            "_view_count": null,
            "flex_flow": null,
            "width": null,
            "min_width": null,
            "border": null,
            "align_items": null,
            "bottom": null,
            "_model_module": "@jupyter-widgets/base",
            "top": null,
            "grid_column": null,
            "overflow_y": null,
            "overflow_x": null,
            "grid_auto_flow": null,
            "grid_area": null,
            "grid_template_columns": null,
            "flex": null,
            "_model_name": "LayoutModel",
            "justify_items": null,
            "grid_row": null,
            "max_height": null,
            "align_content": null,
            "visibility": null,
            "align_self": null,
            "height": null,
            "min_height": null,
            "padding": null,
            "grid_auto_rows": null,
            "grid_gap": null,
            "max_width": null,
            "order": null,
            "_view_module_version": "1.2.0",
            "grid_template_areas": null,
            "object_position": null,
            "object_fit": null,
            "grid_auto_columns": null,
            "margin": null,
            "display": null,
            "left": null
          }
        },
        "ed9e3962ffb94bff9d7fb1af19b0ed99": {
          "model_module": "@jupyter-widgets/controls",
          "model_name": "LabelModel",
          "model_module_version": "1.5.0",
          "state": {
            "_view_name": "LabelView",
            "style": "IPY_MODEL_b9ab48cc55f549c287c618b60f1b5c95",
            "_dom_classes": [],
            "description": "",
            "_model_name": "LabelModel",
            "placeholder": "​",
            "_view_module": "@jupyter-widgets/controls",
            "_model_module_version": "1.5.0",
            "value": " 0.01MB of 0.01MB uploaded (0.00MB deduped)\r",
            "_view_count": null,
            "_view_module_version": "1.5.0",
            "description_tooltip": null,
            "_model_module": "@jupyter-widgets/controls",
            "layout": "IPY_MODEL_62c35bc28863464eb03a28a526a9aba6"
          }
        },
        "32b6c314ae2f4b138a0390455d92ba39": {
          "model_module": "@jupyter-widgets/controls",
          "model_name": "FloatProgressModel",
          "model_module_version": "1.5.0",
          "state": {
            "_view_name": "ProgressView",
            "style": "IPY_MODEL_de1b5412613c46d0b039930f8c309a48",
            "_dom_classes": [],
            "description": "",
            "_model_name": "FloatProgressModel",
            "bar_style": "",
            "max": 1,
            "_view_module": "@jupyter-widgets/controls",
            "_model_module_version": "1.5.0",
            "value": 1,
            "_view_count": null,
            "_view_module_version": "1.5.0",
            "orientation": "horizontal",
            "min": 0,
            "description_tooltip": null,
            "_model_module": "@jupyter-widgets/controls",
            "layout": "IPY_MODEL_f24bbe6033894c48a72afc10c995e898"
          }
        },
        "b9ab48cc55f549c287c618b60f1b5c95": {
          "model_module": "@jupyter-widgets/controls",
          "model_name": "DescriptionStyleModel",
          "model_module_version": "1.5.0",
          "state": {
            "_view_name": "StyleView",
            "_model_name": "DescriptionStyleModel",
            "description_width": "",
            "_view_module": "@jupyter-widgets/base",
            "_model_module_version": "1.5.0",
            "_view_count": null,
            "_view_module_version": "1.2.0",
            "_model_module": "@jupyter-widgets/controls"
          }
        },
        "62c35bc28863464eb03a28a526a9aba6": {
          "model_module": "@jupyter-widgets/base",
          "model_name": "LayoutModel",
          "model_module_version": "1.2.0",
          "state": {
            "_view_name": "LayoutView",
            "grid_template_rows": null,
            "right": null,
            "justify_content": null,
            "_view_module": "@jupyter-widgets/base",
            "overflow": null,
            "_model_module_version": "1.2.0",
            "_view_count": null,
            "flex_flow": null,
            "width": null,
            "min_width": null,
            "border": null,
            "align_items": null,
            "bottom": null,
            "_model_module": "@jupyter-widgets/base",
            "top": null,
            "grid_column": null,
            "overflow_y": null,
            "overflow_x": null,
            "grid_auto_flow": null,
            "grid_area": null,
            "grid_template_columns": null,
            "flex": null,
            "_model_name": "LayoutModel",
            "justify_items": null,
            "grid_row": null,
            "max_height": null,
            "align_content": null,
            "visibility": null,
            "align_self": null,
            "height": null,
            "min_height": null,
            "padding": null,
            "grid_auto_rows": null,
            "grid_gap": null,
            "max_width": null,
            "order": null,
            "_view_module_version": "1.2.0",
            "grid_template_areas": null,
            "object_position": null,
            "object_fit": null,
            "grid_auto_columns": null,
            "margin": null,
            "display": null,
            "left": null
          }
        },
        "de1b5412613c46d0b039930f8c309a48": {
          "model_module": "@jupyter-widgets/controls",
          "model_name": "ProgressStyleModel",
          "model_module_version": "1.5.0",
          "state": {
            "_view_name": "StyleView",
            "_model_name": "ProgressStyleModel",
            "description_width": "",
            "_view_module": "@jupyter-widgets/base",
            "_model_module_version": "1.5.0",
            "_view_count": null,
            "_view_module_version": "1.2.0",
            "bar_color": null,
            "_model_module": "@jupyter-widgets/controls"
          }
        },
        "f24bbe6033894c48a72afc10c995e898": {
          "model_module": "@jupyter-widgets/base",
          "model_name": "LayoutModel",
          "model_module_version": "1.2.0",
          "state": {
            "_view_name": "LayoutView",
            "grid_template_rows": null,
            "right": null,
            "justify_content": null,
            "_view_module": "@jupyter-widgets/base",
            "overflow": null,
            "_model_module_version": "1.2.0",
            "_view_count": null,
            "flex_flow": null,
            "width": null,
            "min_width": null,
            "border": null,
            "align_items": null,
            "bottom": null,
            "_model_module": "@jupyter-widgets/base",
            "top": null,
            "grid_column": null,
            "overflow_y": null,
            "overflow_x": null,
            "grid_auto_flow": null,
            "grid_area": null,
            "grid_template_columns": null,
            "flex": null,
            "_model_name": "LayoutModel",
            "justify_items": null,
            "grid_row": null,
            "max_height": null,
            "align_content": null,
            "visibility": null,
            "align_self": null,
            "height": null,
            "min_height": null,
            "padding": null,
            "grid_auto_rows": null,
            "grid_gap": null,
            "max_width": null,
            "order": null,
            "_view_module_version": "1.2.0",
            "grid_template_areas": null,
            "object_position": null,
            "object_fit": null,
            "grid_auto_columns": null,
            "margin": null,
            "display": null,
            "left": null
          }
        },
        "417e1af8367e43a7995063d89c373c6b": {
          "model_module": "@jupyter-widgets/controls",
          "model_name": "VBoxModel",
          "model_module_version": "1.5.0",
          "state": {
            "_view_name": "VBoxView",
            "_dom_classes": [],
            "_model_name": "VBoxModel",
            "_view_module": "@jupyter-widgets/controls",
            "_model_module_version": "1.5.0",
            "_view_count": null,
            "_view_module_version": "1.5.0",
            "box_style": "",
            "layout": "IPY_MODEL_d9c3735f10bf407a8ce2ab873ed46310",
            "_model_module": "@jupyter-widgets/controls",
            "children": [
              "IPY_MODEL_26d0246b010d41b5992887be5ba12625",
              "IPY_MODEL_48cf6207ea2d45a48d272e702cd9eecb"
            ]
          }
        },
        "d9c3735f10bf407a8ce2ab873ed46310": {
          "model_module": "@jupyter-widgets/base",
          "model_name": "LayoutModel",
          "model_module_version": "1.2.0",
          "state": {
            "_view_name": "LayoutView",
            "grid_template_rows": null,
            "right": null,
            "justify_content": null,
            "_view_module": "@jupyter-widgets/base",
            "overflow": null,
            "_model_module_version": "1.2.0",
            "_view_count": null,
            "flex_flow": null,
            "width": null,
            "min_width": null,
            "border": null,
            "align_items": null,
            "bottom": null,
            "_model_module": "@jupyter-widgets/base",
            "top": null,
            "grid_column": null,
            "overflow_y": null,
            "overflow_x": null,
            "grid_auto_flow": null,
            "grid_area": null,
            "grid_template_columns": null,
            "flex": null,
            "_model_name": "LayoutModel",
            "justify_items": null,
            "grid_row": null,
            "max_height": null,
            "align_content": null,
            "visibility": null,
            "align_self": null,
            "height": null,
            "min_height": null,
            "padding": null,
            "grid_auto_rows": null,
            "grid_gap": null,
            "max_width": null,
            "order": null,
            "_view_module_version": "1.2.0",
            "grid_template_areas": null,
            "object_position": null,
            "object_fit": null,
            "grid_auto_columns": null,
            "margin": null,
            "display": null,
            "left": null
          }
        },
        "26d0246b010d41b5992887be5ba12625": {
          "model_module": "@jupyter-widgets/controls",
          "model_name": "LabelModel",
          "model_module_version": "1.5.0",
          "state": {
            "_view_name": "LabelView",
            "style": "IPY_MODEL_90918b36b5b849119eff56c69816dd69",
            "_dom_classes": [],
            "description": "",
            "_model_name": "LabelModel",
            "placeholder": "​",
            "_view_module": "@jupyter-widgets/controls",
            "_model_module_version": "1.5.0",
            "value": " 0.01MB of 0.01MB uploaded (0.00MB deduped)\r",
            "_view_count": null,
            "_view_module_version": "1.5.0",
            "description_tooltip": null,
            "_model_module": "@jupyter-widgets/controls",
            "layout": "IPY_MODEL_07fa329b078a4c93a0d82aefeaf53b9d"
          }
        },
        "48cf6207ea2d45a48d272e702cd9eecb": {
          "model_module": "@jupyter-widgets/controls",
          "model_name": "FloatProgressModel",
          "model_module_version": "1.5.0",
          "state": {
            "_view_name": "ProgressView",
            "style": "IPY_MODEL_74e56daa4cf6464ab35767ee29c644d6",
            "_dom_classes": [],
            "description": "",
            "_model_name": "FloatProgressModel",
            "bar_style": "",
            "max": 1,
            "_view_module": "@jupyter-widgets/controls",
            "_model_module_version": "1.5.0",
            "value": 1,
            "_view_count": null,
            "_view_module_version": "1.5.0",
            "orientation": "horizontal",
            "min": 0,
            "description_tooltip": null,
            "_model_module": "@jupyter-widgets/controls",
            "layout": "IPY_MODEL_7ac08b74bc554536aaab289018eb70f2"
          }
        },
        "90918b36b5b849119eff56c69816dd69": {
          "model_module": "@jupyter-widgets/controls",
          "model_name": "DescriptionStyleModel",
          "model_module_version": "1.5.0",
          "state": {
            "_view_name": "StyleView",
            "_model_name": "DescriptionStyleModel",
            "description_width": "",
            "_view_module": "@jupyter-widgets/base",
            "_model_module_version": "1.5.0",
            "_view_count": null,
            "_view_module_version": "1.2.0",
            "_model_module": "@jupyter-widgets/controls"
          }
        },
        "07fa329b078a4c93a0d82aefeaf53b9d": {
          "model_module": "@jupyter-widgets/base",
          "model_name": "LayoutModel",
          "model_module_version": "1.2.0",
          "state": {
            "_view_name": "LayoutView",
            "grid_template_rows": null,
            "right": null,
            "justify_content": null,
            "_view_module": "@jupyter-widgets/base",
            "overflow": null,
            "_model_module_version": "1.2.0",
            "_view_count": null,
            "flex_flow": null,
            "width": null,
            "min_width": null,
            "border": null,
            "align_items": null,
            "bottom": null,
            "_model_module": "@jupyter-widgets/base",
            "top": null,
            "grid_column": null,
            "overflow_y": null,
            "overflow_x": null,
            "grid_auto_flow": null,
            "grid_area": null,
            "grid_template_columns": null,
            "flex": null,
            "_model_name": "LayoutModel",
            "justify_items": null,
            "grid_row": null,
            "max_height": null,
            "align_content": null,
            "visibility": null,
            "align_self": null,
            "height": null,
            "min_height": null,
            "padding": null,
            "grid_auto_rows": null,
            "grid_gap": null,
            "max_width": null,
            "order": null,
            "_view_module_version": "1.2.0",
            "grid_template_areas": null,
            "object_position": null,
            "object_fit": null,
            "grid_auto_columns": null,
            "margin": null,
            "display": null,
            "left": null
          }
        },
        "74e56daa4cf6464ab35767ee29c644d6": {
          "model_module": "@jupyter-widgets/controls",
          "model_name": "ProgressStyleModel",
          "model_module_version": "1.5.0",
          "state": {
            "_view_name": "StyleView",
            "_model_name": "ProgressStyleModel",
            "description_width": "",
            "_view_module": "@jupyter-widgets/base",
            "_model_module_version": "1.5.0",
            "_view_count": null,
            "_view_module_version": "1.2.0",
            "bar_color": null,
            "_model_module": "@jupyter-widgets/controls"
          }
        },
        "7ac08b74bc554536aaab289018eb70f2": {
          "model_module": "@jupyter-widgets/base",
          "model_name": "LayoutModel",
          "model_module_version": "1.2.0",
          "state": {
            "_view_name": "LayoutView",
            "grid_template_rows": null,
            "right": null,
            "justify_content": null,
            "_view_module": "@jupyter-widgets/base",
            "overflow": null,
            "_model_module_version": "1.2.0",
            "_view_count": null,
            "flex_flow": null,
            "width": null,
            "min_width": null,
            "border": null,
            "align_items": null,
            "bottom": null,
            "_model_module": "@jupyter-widgets/base",
            "top": null,
            "grid_column": null,
            "overflow_y": null,
            "overflow_x": null,
            "grid_auto_flow": null,
            "grid_area": null,
            "grid_template_columns": null,
            "flex": null,
            "_model_name": "LayoutModel",
            "justify_items": null,
            "grid_row": null,
            "max_height": null,
            "align_content": null,
            "visibility": null,
            "align_self": null,
            "height": null,
            "min_height": null,
            "padding": null,
            "grid_auto_rows": null,
            "grid_gap": null,
            "max_width": null,
            "order": null,
            "_view_module_version": "1.2.0",
            "grid_template_areas": null,
            "object_position": null,
            "object_fit": null,
            "grid_auto_columns": null,
            "margin": null,
            "display": null,
            "left": null
          }
        },
        "fef3f14c8ec440c5bd4d18cba042527b": {
          "model_module": "@jupyter-widgets/controls",
          "model_name": "VBoxModel",
          "model_module_version": "1.5.0",
          "state": {
            "_view_name": "VBoxView",
            "_dom_classes": [],
            "_model_name": "VBoxModel",
            "_view_module": "@jupyter-widgets/controls",
            "_model_module_version": "1.5.0",
            "_view_count": null,
            "_view_module_version": "1.5.0",
            "box_style": "",
            "layout": "IPY_MODEL_5ce687a260b9403bb6b2d2dc39193e80",
            "_model_module": "@jupyter-widgets/controls",
            "children": [
              "IPY_MODEL_65206c6441934828a1054628c0380f9f",
              "IPY_MODEL_391af1b06e0c4c5d9590a4ad9815dbce"
            ]
          }
        },
        "5ce687a260b9403bb6b2d2dc39193e80": {
          "model_module": "@jupyter-widgets/base",
          "model_name": "LayoutModel",
          "model_module_version": "1.2.0",
          "state": {
            "_view_name": "LayoutView",
            "grid_template_rows": null,
            "right": null,
            "justify_content": null,
            "_view_module": "@jupyter-widgets/base",
            "overflow": null,
            "_model_module_version": "1.2.0",
            "_view_count": null,
            "flex_flow": null,
            "width": null,
            "min_width": null,
            "border": null,
            "align_items": null,
            "bottom": null,
            "_model_module": "@jupyter-widgets/base",
            "top": null,
            "grid_column": null,
            "overflow_y": null,
            "overflow_x": null,
            "grid_auto_flow": null,
            "grid_area": null,
            "grid_template_columns": null,
            "flex": null,
            "_model_name": "LayoutModel",
            "justify_items": null,
            "grid_row": null,
            "max_height": null,
            "align_content": null,
            "visibility": null,
            "align_self": null,
            "height": null,
            "min_height": null,
            "padding": null,
            "grid_auto_rows": null,
            "grid_gap": null,
            "max_width": null,
            "order": null,
            "_view_module_version": "1.2.0",
            "grid_template_areas": null,
            "object_position": null,
            "object_fit": null,
            "grid_auto_columns": null,
            "margin": null,
            "display": null,
            "left": null
          }
        },
        "65206c6441934828a1054628c0380f9f": {
          "model_module": "@jupyter-widgets/controls",
          "model_name": "LabelModel",
          "model_module_version": "1.5.0",
          "state": {
            "_view_name": "LabelView",
            "style": "IPY_MODEL_4cc9c704571e4b16b89cbbfb6f6ab417",
            "_dom_classes": [],
            "description": "",
            "_model_name": "LabelModel",
            "placeholder": "​",
            "_view_module": "@jupyter-widgets/controls",
            "_model_module_version": "1.5.0",
            "value": " 0.01MB of 0.01MB uploaded (0.00MB deduped)\r",
            "_view_count": null,
            "_view_module_version": "1.5.0",
            "description_tooltip": null,
            "_model_module": "@jupyter-widgets/controls",
            "layout": "IPY_MODEL_c0f9bed817d94383ab5e0662d7a7f9bb"
          }
        },
        "391af1b06e0c4c5d9590a4ad9815dbce": {
          "model_module": "@jupyter-widgets/controls",
          "model_name": "FloatProgressModel",
          "model_module_version": "1.5.0",
          "state": {
            "_view_name": "ProgressView",
            "style": "IPY_MODEL_1cf3beffaf444192b07a944f83aabf42",
            "_dom_classes": [],
            "description": "",
            "_model_name": "FloatProgressModel",
            "bar_style": "",
            "max": 1,
            "_view_module": "@jupyter-widgets/controls",
            "_model_module_version": "1.5.0",
            "value": 1,
            "_view_count": null,
            "_view_module_version": "1.5.0",
            "orientation": "horizontal",
            "min": 0,
            "description_tooltip": null,
            "_model_module": "@jupyter-widgets/controls",
            "layout": "IPY_MODEL_f8658533f6e24bc39403e9a1c150fbea"
          }
        },
        "4cc9c704571e4b16b89cbbfb6f6ab417": {
          "model_module": "@jupyter-widgets/controls",
          "model_name": "DescriptionStyleModel",
          "model_module_version": "1.5.0",
          "state": {
            "_view_name": "StyleView",
            "_model_name": "DescriptionStyleModel",
            "description_width": "",
            "_view_module": "@jupyter-widgets/base",
            "_model_module_version": "1.5.0",
            "_view_count": null,
            "_view_module_version": "1.2.0",
            "_model_module": "@jupyter-widgets/controls"
          }
        },
        "c0f9bed817d94383ab5e0662d7a7f9bb": {
          "model_module": "@jupyter-widgets/base",
          "model_name": "LayoutModel",
          "model_module_version": "1.2.0",
          "state": {
            "_view_name": "LayoutView",
            "grid_template_rows": null,
            "right": null,
            "justify_content": null,
            "_view_module": "@jupyter-widgets/base",
            "overflow": null,
            "_model_module_version": "1.2.0",
            "_view_count": null,
            "flex_flow": null,
            "width": null,
            "min_width": null,
            "border": null,
            "align_items": null,
            "bottom": null,
            "_model_module": "@jupyter-widgets/base",
            "top": null,
            "grid_column": null,
            "overflow_y": null,
            "overflow_x": null,
            "grid_auto_flow": null,
            "grid_area": null,
            "grid_template_columns": null,
            "flex": null,
            "_model_name": "LayoutModel",
            "justify_items": null,
            "grid_row": null,
            "max_height": null,
            "align_content": null,
            "visibility": null,
            "align_self": null,
            "height": null,
            "min_height": null,
            "padding": null,
            "grid_auto_rows": null,
            "grid_gap": null,
            "max_width": null,
            "order": null,
            "_view_module_version": "1.2.0",
            "grid_template_areas": null,
            "object_position": null,
            "object_fit": null,
            "grid_auto_columns": null,
            "margin": null,
            "display": null,
            "left": null
          }
        },
        "1cf3beffaf444192b07a944f83aabf42": {
          "model_module": "@jupyter-widgets/controls",
          "model_name": "ProgressStyleModel",
          "model_module_version": "1.5.0",
          "state": {
            "_view_name": "StyleView",
            "_model_name": "ProgressStyleModel",
            "description_width": "",
            "_view_module": "@jupyter-widgets/base",
            "_model_module_version": "1.5.0",
            "_view_count": null,
            "_view_module_version": "1.2.0",
            "bar_color": null,
            "_model_module": "@jupyter-widgets/controls"
          }
        },
        "f8658533f6e24bc39403e9a1c150fbea": {
          "model_module": "@jupyter-widgets/base",
          "model_name": "LayoutModel",
          "model_module_version": "1.2.0",
          "state": {
            "_view_name": "LayoutView",
            "grid_template_rows": null,
            "right": null,
            "justify_content": null,
            "_view_module": "@jupyter-widgets/base",
            "overflow": null,
            "_model_module_version": "1.2.0",
            "_view_count": null,
            "flex_flow": null,
            "width": null,
            "min_width": null,
            "border": null,
            "align_items": null,
            "bottom": null,
            "_model_module": "@jupyter-widgets/base",
            "top": null,
            "grid_column": null,
            "overflow_y": null,
            "overflow_x": null,
            "grid_auto_flow": null,
            "grid_area": null,
            "grid_template_columns": null,
            "flex": null,
            "_model_name": "LayoutModel",
            "justify_items": null,
            "grid_row": null,
            "max_height": null,
            "align_content": null,
            "visibility": null,
            "align_self": null,
            "height": null,
            "min_height": null,
            "padding": null,
            "grid_auto_rows": null,
            "grid_gap": null,
            "max_width": null,
            "order": null,
            "_view_module_version": "1.2.0",
            "grid_template_areas": null,
            "object_position": null,
            "object_fit": null,
            "grid_auto_columns": null,
            "margin": null,
            "display": null,
            "left": null
          }
        },
        "3c807b52b4b84c96808f6ce927eba2fc": {
          "model_module": "@jupyter-widgets/controls",
          "model_name": "VBoxModel",
          "model_module_version": "1.5.0",
          "state": {
            "_view_name": "VBoxView",
            "_dom_classes": [],
            "_model_name": "VBoxModel",
            "_view_module": "@jupyter-widgets/controls",
            "_model_module_version": "1.5.0",
            "_view_count": null,
            "_view_module_version": "1.5.0",
            "box_style": "",
            "layout": "IPY_MODEL_ee1725932b2e445198efcf94fa09d8a0",
            "_model_module": "@jupyter-widgets/controls",
            "children": [
              "IPY_MODEL_368ba2f36b894cf5b85c7d42bf544538",
              "IPY_MODEL_e3ad548bb0b74a9b9c8e9b51f07fa882"
            ]
          }
        },
        "ee1725932b2e445198efcf94fa09d8a0": {
          "model_module": "@jupyter-widgets/base",
          "model_name": "LayoutModel",
          "model_module_version": "1.2.0",
          "state": {
            "_view_name": "LayoutView",
            "grid_template_rows": null,
            "right": null,
            "justify_content": null,
            "_view_module": "@jupyter-widgets/base",
            "overflow": null,
            "_model_module_version": "1.2.0",
            "_view_count": null,
            "flex_flow": null,
            "width": null,
            "min_width": null,
            "border": null,
            "align_items": null,
            "bottom": null,
            "_model_module": "@jupyter-widgets/base",
            "top": null,
            "grid_column": null,
            "overflow_y": null,
            "overflow_x": null,
            "grid_auto_flow": null,
            "grid_area": null,
            "grid_template_columns": null,
            "flex": null,
            "_model_name": "LayoutModel",
            "justify_items": null,
            "grid_row": null,
            "max_height": null,
            "align_content": null,
            "visibility": null,
            "align_self": null,
            "height": null,
            "min_height": null,
            "padding": null,
            "grid_auto_rows": null,
            "grid_gap": null,
            "max_width": null,
            "order": null,
            "_view_module_version": "1.2.0",
            "grid_template_areas": null,
            "object_position": null,
            "object_fit": null,
            "grid_auto_columns": null,
            "margin": null,
            "display": null,
            "left": null
          }
        },
        "368ba2f36b894cf5b85c7d42bf544538": {
          "model_module": "@jupyter-widgets/controls",
          "model_name": "LabelModel",
          "model_module_version": "1.5.0",
          "state": {
            "_view_name": "LabelView",
            "style": "IPY_MODEL_ccbff8d86a574156ba491c4d6606f45c",
            "_dom_classes": [],
            "description": "",
            "_model_name": "LabelModel",
            "placeholder": "​",
            "_view_module": "@jupyter-widgets/controls",
            "_model_module_version": "1.5.0",
            "value": " 0.01MB of 0.01MB uploaded (0.00MB deduped)\r",
            "_view_count": null,
            "_view_module_version": "1.5.0",
            "description_tooltip": null,
            "_model_module": "@jupyter-widgets/controls",
            "layout": "IPY_MODEL_71bed06eb701486cac9de1676f9bf291"
          }
        },
        "e3ad548bb0b74a9b9c8e9b51f07fa882": {
          "model_module": "@jupyter-widgets/controls",
          "model_name": "FloatProgressModel",
          "model_module_version": "1.5.0",
          "state": {
            "_view_name": "ProgressView",
            "style": "IPY_MODEL_8a02884022ea4d2786cae2bfb6399a26",
            "_dom_classes": [],
            "description": "",
            "_model_name": "FloatProgressModel",
            "bar_style": "",
            "max": 1,
            "_view_module": "@jupyter-widgets/controls",
            "_model_module_version": "1.5.0",
            "value": 1,
            "_view_count": null,
            "_view_module_version": "1.5.0",
            "orientation": "horizontal",
            "min": 0,
            "description_tooltip": null,
            "_model_module": "@jupyter-widgets/controls",
            "layout": "IPY_MODEL_7909bf5079d74460b35b7d07536e22e5"
          }
        },
        "ccbff8d86a574156ba491c4d6606f45c": {
          "model_module": "@jupyter-widgets/controls",
          "model_name": "DescriptionStyleModel",
          "model_module_version": "1.5.0",
          "state": {
            "_view_name": "StyleView",
            "_model_name": "DescriptionStyleModel",
            "description_width": "",
            "_view_module": "@jupyter-widgets/base",
            "_model_module_version": "1.5.0",
            "_view_count": null,
            "_view_module_version": "1.2.0",
            "_model_module": "@jupyter-widgets/controls"
          }
        },
        "71bed06eb701486cac9de1676f9bf291": {
          "model_module": "@jupyter-widgets/base",
          "model_name": "LayoutModel",
          "model_module_version": "1.2.0",
          "state": {
            "_view_name": "LayoutView",
            "grid_template_rows": null,
            "right": null,
            "justify_content": null,
            "_view_module": "@jupyter-widgets/base",
            "overflow": null,
            "_model_module_version": "1.2.0",
            "_view_count": null,
            "flex_flow": null,
            "width": null,
            "min_width": null,
            "border": null,
            "align_items": null,
            "bottom": null,
            "_model_module": "@jupyter-widgets/base",
            "top": null,
            "grid_column": null,
            "overflow_y": null,
            "overflow_x": null,
            "grid_auto_flow": null,
            "grid_area": null,
            "grid_template_columns": null,
            "flex": null,
            "_model_name": "LayoutModel",
            "justify_items": null,
            "grid_row": null,
            "max_height": null,
            "align_content": null,
            "visibility": null,
            "align_self": null,
            "height": null,
            "min_height": null,
            "padding": null,
            "grid_auto_rows": null,
            "grid_gap": null,
            "max_width": null,
            "order": null,
            "_view_module_version": "1.2.0",
            "grid_template_areas": null,
            "object_position": null,
            "object_fit": null,
            "grid_auto_columns": null,
            "margin": null,
            "display": null,
            "left": null
          }
        },
        "8a02884022ea4d2786cae2bfb6399a26": {
          "model_module": "@jupyter-widgets/controls",
          "model_name": "ProgressStyleModel",
          "model_module_version": "1.5.0",
          "state": {
            "_view_name": "StyleView",
            "_model_name": "ProgressStyleModel",
            "description_width": "",
            "_view_module": "@jupyter-widgets/base",
            "_model_module_version": "1.5.0",
            "_view_count": null,
            "_view_module_version": "1.2.0",
            "bar_color": null,
            "_model_module": "@jupyter-widgets/controls"
          }
        },
        "7909bf5079d74460b35b7d07536e22e5": {
          "model_module": "@jupyter-widgets/base",
          "model_name": "LayoutModel",
          "model_module_version": "1.2.0",
          "state": {
            "_view_name": "LayoutView",
            "grid_template_rows": null,
            "right": null,
            "justify_content": null,
            "_view_module": "@jupyter-widgets/base",
            "overflow": null,
            "_model_module_version": "1.2.0",
            "_view_count": null,
            "flex_flow": null,
            "width": null,
            "min_width": null,
            "border": null,
            "align_items": null,
            "bottom": null,
            "_model_module": "@jupyter-widgets/base",
            "top": null,
            "grid_column": null,
            "overflow_y": null,
            "overflow_x": null,
            "grid_auto_flow": null,
            "grid_area": null,
            "grid_template_columns": null,
            "flex": null,
            "_model_name": "LayoutModel",
            "justify_items": null,
            "grid_row": null,
            "max_height": null,
            "align_content": null,
            "visibility": null,
            "align_self": null,
            "height": null,
            "min_height": null,
            "padding": null,
            "grid_auto_rows": null,
            "grid_gap": null,
            "max_width": null,
            "order": null,
            "_view_module_version": "1.2.0",
            "grid_template_areas": null,
            "object_position": null,
            "object_fit": null,
            "grid_auto_columns": null,
            "margin": null,
            "display": null,
            "left": null
          }
        },
        "4948a5d8ce1649e8802298b249b6f6f2": {
          "model_module": "@jupyter-widgets/controls",
          "model_name": "VBoxModel",
          "model_module_version": "1.5.0",
          "state": {
            "_view_name": "VBoxView",
            "_dom_classes": [],
            "_model_name": "VBoxModel",
            "_view_module": "@jupyter-widgets/controls",
            "_model_module_version": "1.5.0",
            "_view_count": null,
            "_view_module_version": "1.5.0",
            "box_style": "",
            "layout": "IPY_MODEL_5183db86e2fc42cdb18c9e101922c9f2",
            "_model_module": "@jupyter-widgets/controls",
            "children": [
              "IPY_MODEL_8dec1e46f4ce4414bfcd77598766dc1c",
              "IPY_MODEL_d9159ce476864da7a660cc017c344d73"
            ]
          }
        },
        "5183db86e2fc42cdb18c9e101922c9f2": {
          "model_module": "@jupyter-widgets/base",
          "model_name": "LayoutModel",
          "model_module_version": "1.2.0",
          "state": {
            "_view_name": "LayoutView",
            "grid_template_rows": null,
            "right": null,
            "justify_content": null,
            "_view_module": "@jupyter-widgets/base",
            "overflow": null,
            "_model_module_version": "1.2.0",
            "_view_count": null,
            "flex_flow": null,
            "width": null,
            "min_width": null,
            "border": null,
            "align_items": null,
            "bottom": null,
            "_model_module": "@jupyter-widgets/base",
            "top": null,
            "grid_column": null,
            "overflow_y": null,
            "overflow_x": null,
            "grid_auto_flow": null,
            "grid_area": null,
            "grid_template_columns": null,
            "flex": null,
            "_model_name": "LayoutModel",
            "justify_items": null,
            "grid_row": null,
            "max_height": null,
            "align_content": null,
            "visibility": null,
            "align_self": null,
            "height": null,
            "min_height": null,
            "padding": null,
            "grid_auto_rows": null,
            "grid_gap": null,
            "max_width": null,
            "order": null,
            "_view_module_version": "1.2.0",
            "grid_template_areas": null,
            "object_position": null,
            "object_fit": null,
            "grid_auto_columns": null,
            "margin": null,
            "display": null,
            "left": null
          }
        },
        "8dec1e46f4ce4414bfcd77598766dc1c": {
          "model_module": "@jupyter-widgets/controls",
          "model_name": "LabelModel",
          "model_module_version": "1.5.0",
          "state": {
            "_view_name": "LabelView",
            "style": "IPY_MODEL_fd97dff7b1144a779fa77b6660c84bbc",
            "_dom_classes": [],
            "description": "",
            "_model_name": "LabelModel",
            "placeholder": "​",
            "_view_module": "@jupyter-widgets/controls",
            "_model_module_version": "1.5.0",
            "value": " 0.01MB of 0.01MB uploaded (0.00MB deduped)\r",
            "_view_count": null,
            "_view_module_version": "1.5.0",
            "description_tooltip": null,
            "_model_module": "@jupyter-widgets/controls",
            "layout": "IPY_MODEL_625a4372d73a476c9a4745c7fe57078c"
          }
        },
        "d9159ce476864da7a660cc017c344d73": {
          "model_module": "@jupyter-widgets/controls",
          "model_name": "FloatProgressModel",
          "model_module_version": "1.5.0",
          "state": {
            "_view_name": "ProgressView",
            "style": "IPY_MODEL_5e657c43b9ac4b4595cfe1a471e10e17",
            "_dom_classes": [],
            "description": "",
            "_model_name": "FloatProgressModel",
            "bar_style": "",
            "max": 1,
            "_view_module": "@jupyter-widgets/controls",
            "_model_module_version": "1.5.0",
            "value": 1,
            "_view_count": null,
            "_view_module_version": "1.5.0",
            "orientation": "horizontal",
            "min": 0,
            "description_tooltip": null,
            "_model_module": "@jupyter-widgets/controls",
            "layout": "IPY_MODEL_260df31f643b40d4b82814c5784d8757"
          }
        },
        "fd97dff7b1144a779fa77b6660c84bbc": {
          "model_module": "@jupyter-widgets/controls",
          "model_name": "DescriptionStyleModel",
          "model_module_version": "1.5.0",
          "state": {
            "_view_name": "StyleView",
            "_model_name": "DescriptionStyleModel",
            "description_width": "",
            "_view_module": "@jupyter-widgets/base",
            "_model_module_version": "1.5.0",
            "_view_count": null,
            "_view_module_version": "1.2.0",
            "_model_module": "@jupyter-widgets/controls"
          }
        },
        "625a4372d73a476c9a4745c7fe57078c": {
          "model_module": "@jupyter-widgets/base",
          "model_name": "LayoutModel",
          "model_module_version": "1.2.0",
          "state": {
            "_view_name": "LayoutView",
            "grid_template_rows": null,
            "right": null,
            "justify_content": null,
            "_view_module": "@jupyter-widgets/base",
            "overflow": null,
            "_model_module_version": "1.2.0",
            "_view_count": null,
            "flex_flow": null,
            "width": null,
            "min_width": null,
            "border": null,
            "align_items": null,
            "bottom": null,
            "_model_module": "@jupyter-widgets/base",
            "top": null,
            "grid_column": null,
            "overflow_y": null,
            "overflow_x": null,
            "grid_auto_flow": null,
            "grid_area": null,
            "grid_template_columns": null,
            "flex": null,
            "_model_name": "LayoutModel",
            "justify_items": null,
            "grid_row": null,
            "max_height": null,
            "align_content": null,
            "visibility": null,
            "align_self": null,
            "height": null,
            "min_height": null,
            "padding": null,
            "grid_auto_rows": null,
            "grid_gap": null,
            "max_width": null,
            "order": null,
            "_view_module_version": "1.2.0",
            "grid_template_areas": null,
            "object_position": null,
            "object_fit": null,
            "grid_auto_columns": null,
            "margin": null,
            "display": null,
            "left": null
          }
        },
        "5e657c43b9ac4b4595cfe1a471e10e17": {
          "model_module": "@jupyter-widgets/controls",
          "model_name": "ProgressStyleModel",
          "model_module_version": "1.5.0",
          "state": {
            "_view_name": "StyleView",
            "_model_name": "ProgressStyleModel",
            "description_width": "",
            "_view_module": "@jupyter-widgets/base",
            "_model_module_version": "1.5.0",
            "_view_count": null,
            "_view_module_version": "1.2.0",
            "bar_color": null,
            "_model_module": "@jupyter-widgets/controls"
          }
        },
        "260df31f643b40d4b82814c5784d8757": {
          "model_module": "@jupyter-widgets/base",
          "model_name": "LayoutModel",
          "model_module_version": "1.2.0",
          "state": {
            "_view_name": "LayoutView",
            "grid_template_rows": null,
            "right": null,
            "justify_content": null,
            "_view_module": "@jupyter-widgets/base",
            "overflow": null,
            "_model_module_version": "1.2.0",
            "_view_count": null,
            "flex_flow": null,
            "width": null,
            "min_width": null,
            "border": null,
            "align_items": null,
            "bottom": null,
            "_model_module": "@jupyter-widgets/base",
            "top": null,
            "grid_column": null,
            "overflow_y": null,
            "overflow_x": null,
            "grid_auto_flow": null,
            "grid_area": null,
            "grid_template_columns": null,
            "flex": null,
            "_model_name": "LayoutModel",
            "justify_items": null,
            "grid_row": null,
            "max_height": null,
            "align_content": null,
            "visibility": null,
            "align_self": null,
            "height": null,
            "min_height": null,
            "padding": null,
            "grid_auto_rows": null,
            "grid_gap": null,
            "max_width": null,
            "order": null,
            "_view_module_version": "1.2.0",
            "grid_template_areas": null,
            "object_position": null,
            "object_fit": null,
            "grid_auto_columns": null,
            "margin": null,
            "display": null,
            "left": null
          }
        },
        "d1c84aa169634a90a026da9324dcb7e6": {
          "model_module": "@jupyter-widgets/controls",
          "model_name": "VBoxModel",
          "model_module_version": "1.5.0",
          "state": {
            "_view_name": "VBoxView",
            "_dom_classes": [],
            "_model_name": "VBoxModel",
            "_view_module": "@jupyter-widgets/controls",
            "_model_module_version": "1.5.0",
            "_view_count": null,
            "_view_module_version": "1.5.0",
            "box_style": "",
            "layout": "IPY_MODEL_1f3f6ffd605c47e4a896921749c907e6",
            "_model_module": "@jupyter-widgets/controls",
            "children": [
              "IPY_MODEL_65815acd69af4e7e987d430fa90dd3c5",
              "IPY_MODEL_9a7e9ace65764e45b9e01ca148fc2f07"
            ]
          }
        },
        "1f3f6ffd605c47e4a896921749c907e6": {
          "model_module": "@jupyter-widgets/base",
          "model_name": "LayoutModel",
          "model_module_version": "1.2.0",
          "state": {
            "_view_name": "LayoutView",
            "grid_template_rows": null,
            "right": null,
            "justify_content": null,
            "_view_module": "@jupyter-widgets/base",
            "overflow": null,
            "_model_module_version": "1.2.0",
            "_view_count": null,
            "flex_flow": null,
            "width": null,
            "min_width": null,
            "border": null,
            "align_items": null,
            "bottom": null,
            "_model_module": "@jupyter-widgets/base",
            "top": null,
            "grid_column": null,
            "overflow_y": null,
            "overflow_x": null,
            "grid_auto_flow": null,
            "grid_area": null,
            "grid_template_columns": null,
            "flex": null,
            "_model_name": "LayoutModel",
            "justify_items": null,
            "grid_row": null,
            "max_height": null,
            "align_content": null,
            "visibility": null,
            "align_self": null,
            "height": null,
            "min_height": null,
            "padding": null,
            "grid_auto_rows": null,
            "grid_gap": null,
            "max_width": null,
            "order": null,
            "_view_module_version": "1.2.0",
            "grid_template_areas": null,
            "object_position": null,
            "object_fit": null,
            "grid_auto_columns": null,
            "margin": null,
            "display": null,
            "left": null
          }
        },
        "65815acd69af4e7e987d430fa90dd3c5": {
          "model_module": "@jupyter-widgets/controls",
          "model_name": "LabelModel",
          "model_module_version": "1.5.0",
          "state": {
            "_view_name": "LabelView",
            "style": "IPY_MODEL_08f9d478063b4395ae6e8781e6b7b619",
            "_dom_classes": [],
            "description": "",
            "_model_name": "LabelModel",
            "placeholder": "​",
            "_view_module": "@jupyter-widgets/controls",
            "_model_module_version": "1.5.0",
            "value": " 0.01MB of 0.01MB uploaded (0.00MB deduped)\r",
            "_view_count": null,
            "_view_module_version": "1.5.0",
            "description_tooltip": null,
            "_model_module": "@jupyter-widgets/controls",
            "layout": "IPY_MODEL_246972485c7f4f258fef83be6adfa876"
          }
        },
        "9a7e9ace65764e45b9e01ca148fc2f07": {
          "model_module": "@jupyter-widgets/controls",
          "model_name": "FloatProgressModel",
          "model_module_version": "1.5.0",
          "state": {
            "_view_name": "ProgressView",
            "style": "IPY_MODEL_4dededa8748e46e9aaae92e70c00d6f3",
            "_dom_classes": [],
            "description": "",
            "_model_name": "FloatProgressModel",
            "bar_style": "",
            "max": 1,
            "_view_module": "@jupyter-widgets/controls",
            "_model_module_version": "1.5.0",
            "value": 1,
            "_view_count": null,
            "_view_module_version": "1.5.0",
            "orientation": "horizontal",
            "min": 0,
            "description_tooltip": null,
            "_model_module": "@jupyter-widgets/controls",
            "layout": "IPY_MODEL_606b782bb9dc4561b8d7d48900912cad"
          }
        },
        "08f9d478063b4395ae6e8781e6b7b619": {
          "model_module": "@jupyter-widgets/controls",
          "model_name": "DescriptionStyleModel",
          "model_module_version": "1.5.0",
          "state": {
            "_view_name": "StyleView",
            "_model_name": "DescriptionStyleModel",
            "description_width": "",
            "_view_module": "@jupyter-widgets/base",
            "_model_module_version": "1.5.0",
            "_view_count": null,
            "_view_module_version": "1.2.0",
            "_model_module": "@jupyter-widgets/controls"
          }
        },
        "246972485c7f4f258fef83be6adfa876": {
          "model_module": "@jupyter-widgets/base",
          "model_name": "LayoutModel",
          "model_module_version": "1.2.0",
          "state": {
            "_view_name": "LayoutView",
            "grid_template_rows": null,
            "right": null,
            "justify_content": null,
            "_view_module": "@jupyter-widgets/base",
            "overflow": null,
            "_model_module_version": "1.2.0",
            "_view_count": null,
            "flex_flow": null,
            "width": null,
            "min_width": null,
            "border": null,
            "align_items": null,
            "bottom": null,
            "_model_module": "@jupyter-widgets/base",
            "top": null,
            "grid_column": null,
            "overflow_y": null,
            "overflow_x": null,
            "grid_auto_flow": null,
            "grid_area": null,
            "grid_template_columns": null,
            "flex": null,
            "_model_name": "LayoutModel",
            "justify_items": null,
            "grid_row": null,
            "max_height": null,
            "align_content": null,
            "visibility": null,
            "align_self": null,
            "height": null,
            "min_height": null,
            "padding": null,
            "grid_auto_rows": null,
            "grid_gap": null,
            "max_width": null,
            "order": null,
            "_view_module_version": "1.2.0",
            "grid_template_areas": null,
            "object_position": null,
            "object_fit": null,
            "grid_auto_columns": null,
            "margin": null,
            "display": null,
            "left": null
          }
        },
        "4dededa8748e46e9aaae92e70c00d6f3": {
          "model_module": "@jupyter-widgets/controls",
          "model_name": "ProgressStyleModel",
          "model_module_version": "1.5.0",
          "state": {
            "_view_name": "StyleView",
            "_model_name": "ProgressStyleModel",
            "description_width": "",
            "_view_module": "@jupyter-widgets/base",
            "_model_module_version": "1.5.0",
            "_view_count": null,
            "_view_module_version": "1.2.0",
            "bar_color": null,
            "_model_module": "@jupyter-widgets/controls"
          }
        },
        "606b782bb9dc4561b8d7d48900912cad": {
          "model_module": "@jupyter-widgets/base",
          "model_name": "LayoutModel",
          "model_module_version": "1.2.0",
          "state": {
            "_view_name": "LayoutView",
            "grid_template_rows": null,
            "right": null,
            "justify_content": null,
            "_view_module": "@jupyter-widgets/base",
            "overflow": null,
            "_model_module_version": "1.2.0",
            "_view_count": null,
            "flex_flow": null,
            "width": null,
            "min_width": null,
            "border": null,
            "align_items": null,
            "bottom": null,
            "_model_module": "@jupyter-widgets/base",
            "top": null,
            "grid_column": null,
            "overflow_y": null,
            "overflow_x": null,
            "grid_auto_flow": null,
            "grid_area": null,
            "grid_template_columns": null,
            "flex": null,
            "_model_name": "LayoutModel",
            "justify_items": null,
            "grid_row": null,
            "max_height": null,
            "align_content": null,
            "visibility": null,
            "align_self": null,
            "height": null,
            "min_height": null,
            "padding": null,
            "grid_auto_rows": null,
            "grid_gap": null,
            "max_width": null,
            "order": null,
            "_view_module_version": "1.2.0",
            "grid_template_areas": null,
            "object_position": null,
            "object_fit": null,
            "grid_auto_columns": null,
            "margin": null,
            "display": null,
            "left": null
          }
        }
      }
    }
  },
  "cells": [
    {
      "cell_type": "code",
      "metadata": {
        "id": "L13B1_fBQWnw"
      },
      "source": [
        "import torch\n",
        "import numpy as np\n",
        "import torch.nn as nn\n",
        "import pandas as pd\n",
        "import re\n",
        "import os\n",
        "import tensorflow as tf\n",
        "from sklearn.model_selection import train_test_split\n",
        "from sklearn.metrics import mean_squared_error\n",
        "from sklearn.metrics import mean_absolute_error\n",
        "from sklearn.metrics import median_absolute_error\n",
        "from sklearn.metrics import r2_score\n",
        "import torchvision.transforms as transforms\n",
        "from torchvision.io import read_image\n",
        "from torch.utils.data import Dataset\n",
        "from sklearn.model_selection import KFold\n",
        "import random\n",
        "import torch.optim as optim\n",
        "import torch.nn.functional as F\n",
        "import matplotlib.pyplot as plt\n",
        "import os\n",
        "from torch.utils.data import DataLoader"
      ],
      "execution_count": null,
      "outputs": []
    },
    {
      "cell_type": "code",
      "metadata": {
        "colab": {
          "base_uri": "https://localhost:8080/"
        },
        "id": "Q1HgkEmtQYa6",
        "outputId": "695c6579-49a8-49a2-9a8d-3b233e2597c1"
      },
      "source": [
        "from google.colab import drive\n",
        "drive.mount('/content/drive') "
      ],
      "execution_count": null,
      "outputs": [
        {
          "output_type": "stream",
          "name": "stdout",
          "text": [
            "Drive already mounted at /content/drive; to attempt to forcibly remount, call drive.mount(\"/content/drive\", force_remount=True).\n"
          ]
        }
      ]
    },
    {
      "cell_type": "code",
      "metadata": {
        "colab": {
          "base_uri": "https://localhost:8080/"
        },
        "id": "IaekCyk3QaGi",
        "outputId": "7ccd3570-f846-4d42-87ec-ae9b165c7a87"
      },
      "source": [
        "!unzip drive/My\\ Drive/NN_201_Sarmanova/full_data.zip #full_data.zip located in NN_201_Sarmanova folder at google drive."
      ],
      "execution_count": null,
      "outputs": [
        {
          "output_type": "stream",
          "name": "stdout",
          "text": [
            "Archive:  drive/My Drive/NN_201_Sarmanova/full_data.zip\n",
            "replace full_data/1.csv? [y]es, [n]o, [A]ll, [N]one, [r]ename: N\n"
          ]
        }
      ]
    },
    {
      "cell_type": "markdown",
      "metadata": {
        "id": "2IBkfyLoQewY"
      },
      "source": [
        "#Customized data class"
      ]
    },
    {
      "cell_type": "code",
      "metadata": {
        "id": "iuKmvdmaQcAj"
      },
      "source": [
        "class CDS_1D_Dataset(Dataset):\n",
        "    def __init__(self, annotations_file, spec_dir, transform=None, target_transform=None, sep = \",\"):\n",
        "        '''annotations_file - the file which contains lables of the samples included in training/validation/test sets'''\n",
        "        self.spec_labels = pd.read_csv(annotations_file, sep=',').iloc[:,1:] # labels (concentrations for 4 ions) for all the samples from annotation file (Y_ions.csv)\n",
        "        self.spec_number = pd.read_csv(annotations_file, sep=',').iloc[:,0] # numbers for all the samples from annotation file (Y_ions.csv)\n",
        "        self.spec_dir = spec_dir # folder where csv files are located\n",
        "        self.transform = transform\n",
        "        self.target_transform = target_transform\n",
        "\n",
        "    def __len__(self):\n",
        "        return len(self.spec_labels) #length of the dataset\n",
        "\n",
        "    def __getitem__(self, idx):\n",
        "        label = self.spec_labels.iloc[idx] # get the label of the sample via sample's index\n",
        "        sp = np.array(pd.read_csv(self.spec_dir + str(self.spec_number[idx])+'.csv').iloc[1:,1:-1], dtype='float32') # get the EEM of the sample via sample's index\n",
        "        sp[sp<0]=0 # here we zero negative values of intensities\n",
        "        spec = torch.from_numpy(sp).unsqueeze(0)# add dimension for channels of cnn\n",
        "        spec = torch.reshape(spec, (41,500))\n",
        "        if self.transform:\n",
        "            spec = self.transform(spec)\n",
        "        if self.target_transform:\n",
        "            label = self.target_transform(label)\n",
        "        return spec, torch.from_numpy(np.array(label, dtype='float32')) # return spectrum and corresponding labels"
      ],
      "execution_count": null,
      "outputs": []
    },
    {
      "cell_type": "code",
      "metadata": {
        "id": "0i06O5KZQ4jr"
      },
      "source": [
        "# class that performs z-normalization\n",
        "class Normalize1D:\n",
        "    def __init__(self,mean,std):\n",
        "        assert mean.shape == std.shape\n",
        "        self.mean = mean\n",
        "        self.std = std\n",
        "\n",
        "    def __call__(self,x):\n",
        "        # x of shape [channel, value]\n",
        "        assert x.shape[0] == self.mean.shape[0]\n",
        "        assert len(x.shape) == 2\n",
        "        mean = self.mean.unsqueeze(-1)\n",
        "        std = self.std.unsqueeze(-1)\n",
        "        return (x - std) / mean"
      ],
      "execution_count": null,
      "outputs": []
    },
    {
      "cell_type": "code",
      "metadata": {
        "id": "F7N7yexiRAKl"
      },
      "source": [
        "#Calculate mean and std\n",
        "def mean_std(train_dataloader):\n",
        "    mean = 0.0\n",
        "    for specs, _ in train_dataloader:\n",
        "        batch_samples = specs.size(0) \n",
        "        mean += specs.mean(2).sum(0)\n",
        "    mean = mean / len(train_dataloader.dataset)\n",
        "\n",
        "    var = 0.0\n",
        "    for specs, _ in train_dataloader:\n",
        "        batch_samples = specs.size(0)\n",
        "        var += ((specs - mean.unsqueeze(1))**2).sum([0,2])\n",
        "    std = torch.sqrt(var / (len(train_dataloader.dataset)*500))\n",
        "    return mean, std"
      ],
      "execution_count": null,
      "outputs": []
    },
    {
      "cell_type": "markdown",
      "metadata": {
        "id": "ft-KHhw0S75Z"
      },
      "source": [
        "# Basic model"
      ]
    },
    {
      "cell_type": "code",
      "metadata": {
        "id": "RRoGOFzHRC-L"
      },
      "source": [
        "#1D CNN class (basic)\n",
        "class OneDCNN(nn.Module):\n",
        "\n",
        "    def __init__(self):\n",
        "      \n",
        "        super().__init__() # since Python 3.0\n",
        "\n",
        "        self.layers = nn.Sequential(\n",
        "            nn.Conv1d(in_channels=41, out_channels=6, kernel_size=5),\n",
        "            nn.ReLU(),\n",
        "            nn.MaxPool1d(2),\n",
        "            nn.Conv1d(in_channels=6, out_channels=16, kernel_size=5),\n",
        "            nn.ReLU(),\n",
        "            nn.Flatten(),\n",
        "            nn.Linear(16 * 244, 160),\n",
        "            nn.ReLU(),\n",
        "            nn.Linear(160, 4)\n",
        "        )\n",
        "    \n",
        "    def forward(self, x):\n",
        "        return self.layers(x)\n"
      ],
      "execution_count": null,
      "outputs": []
    },
    {
      "cell_type": "code",
      "metadata": {
        "id": "DfpOPuxVRE_P"
      },
      "source": [
        "def reset_weights(m):\n",
        "    '''\n",
        "    Try resetting model weights to avoid\n",
        "    weight leakage.\n",
        "  '''\n",
        "    for layer in m.children():\n",
        "        if hasattr(layer, 'reset_parameters'):\n",
        "            print(f'Reset trainable parameters of layer = {layer}')\n",
        "            layer.reset_parameters()"
      ],
      "execution_count": null,
      "outputs": []
    },
    {
      "cell_type": "code",
      "metadata": {
        "id": "Svputg5JRG2v"
      },
      "source": [
        "#Write the outputs of the network\n",
        "def write_predictions(N, model_name, split_path,dataloader,dset):\n",
        "\n",
        "    checkpoint = torch.load(split_path + 'model'+model_name+'.pth')\n",
        "    N.load_state_dict(checkpoint['model_state_dict'])\n",
        "    optimizer.load_state_dict(checkpoint['optimizer_state_dict'])\n",
        "    last_best_epoch = checkpoint['epoch'] #the epoch with minimum loss function that occured during training\n",
        "    loss = checkpoint['loss']\n",
        "    N.eval()\n",
        "\n",
        "    y_ae = np.zeros((1,4))\n",
        "    y_ae_true = np.zeros((1,4))\n",
        "\n",
        "    #write the outputs of the model\n",
        "    for specs, labels in dataloader:\n",
        "        outputs = N(specs)\n",
        "        outputs[outputs<0]=0\n",
        "        ae = outputs.detach().numpy()\n",
        "        ae_true = labels.detach().numpy()\n",
        "        #np.concatenate((y_ae, ae), axis=0)\n",
        "        y_ae = np.concatenate((y_ae, ae), axis=0)\n",
        "        y_ae_true = np.concatenate((y_ae_true, ae_true), axis=0)\n",
        "\n",
        "    a = ['Cu','Ni','Cr','NO3']\n",
        "    pd.DataFrame(y_ae).to_csv(split_path + 'Y_out_'+dset+'.csv',sep=',', header = a)\n",
        "    pd.DataFrame(y_ae_true).to_csv(split_path + 'Y_true_'+dset+'.csv',sep=',', header = a)"
      ],
      "execution_count": null,
      "outputs": []
    },
    {
      "cell_type": "code",
      "metadata": {
        "id": "L-fnuay1RIrt"
      },
      "source": [
        "# calculate mae, rmse, r2 for dataloader\n",
        "import math\n",
        "\n",
        "def calculate_metrics(model, loader):\n",
        "    running_mae = torch.zeros(1,4)\n",
        "    running_mse = torch.zeros(1,4)\n",
        "    y_sum = torch.zeros(1,4)\n",
        "    num_examples = 0\n",
        "    total_sum_squares = torch.zeros(1,4)\n",
        "    target_mean = torch.zeros(1,4)\n",
        "\n",
        "    for specs, targets in loader:\n",
        "        y_sum += targets.sum(dim=0)\n",
        "        num_examples += specs.shape[0]\n",
        "\n",
        "    num_examples = 0\n",
        "    for specs, targets in loader:\n",
        "        preds = model(specs)\n",
        "        preds[preds<0]=0\n",
        "\n",
        "        num_examples += specs.shape[0] # batch size\n",
        "        total_sum_squares += (torch.pow(preds - y_sum, 2)).sum(dim=0)\n",
        "\n",
        "        error = torch.abs(preds - targets).sum(dim=0)\n",
        "        squared_error = ((preds - targets)*(preds - targets)).sum(dim=0)\n",
        "        running_mae += error\n",
        "        running_mse += squared_error\n",
        "  \n",
        "  \n",
        "    mae = (running_mae/num_examples).detach().numpy()\n",
        "    rmse = (torch.sqrt(running_mse/num_examples)).detach().numpy()\n",
        "    r2 = (1 - squared_error / total_sum_squares).detach().numpy()\n",
        "\n",
        "    return mae, rmse, r2"
      ],
      "execution_count": null,
      "outputs": []
    },
    {
      "cell_type": "markdown",
      "metadata": {
        "id": "yH0lMZjPTXmD"
      },
      "source": [
        "# Prepare cross-validation datasets\n"
      ]
    },
    {
      "cell_type": "code",
      "metadata": {
        "id": "Mzbe4audRQdC"
      },
      "source": [
        "gen_path = 'full_data/'\n",
        "\n",
        "case_name = '1D_CNN_100_0_001_baseline' # the name of the experiment\n",
        "# case_name = model_name + stopping_criterion + learning_rate + comment\n",
        "cnn_1d_path = case_name+'/'\n",
        "Y = pd.read_csv(gen_path+'Y_ions.csv', sep=';')\n",
        "\n",
        "\n",
        "k_folds = [[42,12],[612,45],[72,172],[871,48],[52,134]] #cross-validation folds\n",
        "\n",
        "'''Write files with labels for each set (training/validation/test) within cross-validation fold - annotation files for CDS_1D_Dataset'''\n",
        "\n",
        "for fold in k_folds:\n",
        "    split_path = cnn_1d_path+'split_'+ str(fold[0])+'_'+str(fold[1])+ '/'\n",
        "    os.makedirs(split_path, exist_ok=True)\n",
        "\n",
        "    Y_trn, Y_30 = train_test_split(Y, test_size=0.3, random_state=fold[0])\n",
        "    Y_vld, Y_tst = train_test_split(Y_30, test_size = 0.3333, random_state=fold[1])\n",
        "\n",
        "    a = ['sample_number','Cu','Ni','Cr','NO3']\n",
        "\n",
        "    pd.DataFrame(Y_trn).to_csv(split_path + 'Y_trn.csv',sep=',', index=False, header = a)\n",
        "    pd.DataFrame(Y_vld).to_csv(split_path + 'Y_vld.csv',sep=',', index=False, header = a)\n",
        "    pd.DataFrame(Y_tst).to_csv(split_path + 'Y_tst.csv',sep=',', index=False, header = a)\n"
      ],
      "execution_count": null,
      "outputs": []
    },
    {
      "cell_type": "code",
      "metadata": {
        "colab": {
          "base_uri": "https://localhost:8080/",
          "height": 187
        },
        "id": "_duNfJ_WRVuB",
        "outputId": "accd4672-5b53-46ed-f076-f1a81b1d65dc"
      },
      "source": [
        "!pip install wandb -qqq\n",
        "import wandb\n",
        "wandb.login()"
      ],
      "execution_count": null,
      "outputs": [
        {
          "output_type": "stream",
          "name": "stdout",
          "text": [
            "\u001b[K     |████████████████████████████████| 1.7 MB 7.3 MB/s \n",
            "\u001b[K     |████████████████████████████████| 140 kB 34.6 MB/s \n",
            "\u001b[K     |████████████████████████████████| 97 kB 8.9 MB/s \n",
            "\u001b[K     |████████████████████████████████| 180 kB 72.4 MB/s \n",
            "\u001b[K     |████████████████████████████████| 63 kB 2.3 MB/s \n",
            "\u001b[?25h  Building wheel for subprocess32 (setup.py) ... \u001b[?25l\u001b[?25hdone\n",
            "  Building wheel for pathtools (setup.py) ... \u001b[?25l\u001b[?25hdone\n"
          ]
        },
        {
          "output_type": "display_data",
          "data": {
            "application/javascript": [
              "\n",
              "        window._wandbApiKey = new Promise((resolve, reject) => {\n",
              "            function loadScript(url) {\n",
              "            return new Promise(function(resolve, reject) {\n",
              "                let newScript = document.createElement(\"script\");\n",
              "                newScript.onerror = reject;\n",
              "                newScript.onload = resolve;\n",
              "                document.body.appendChild(newScript);\n",
              "                newScript.src = url;\n",
              "            });\n",
              "            }\n",
              "            loadScript(\"https://cdn.jsdelivr.net/npm/postmate/build/postmate.min.js\").then(() => {\n",
              "            const iframe = document.createElement('iframe')\n",
              "            iframe.style.cssText = \"width:0;height:0;border:none\"\n",
              "            document.body.appendChild(iframe)\n",
              "            const handshake = new Postmate({\n",
              "                container: iframe,\n",
              "                url: 'https://wandb.ai/authorize'\n",
              "            });\n",
              "            const timeout = setTimeout(() => reject(\"Couldn't auto authenticate\"), 5000)\n",
              "            handshake.then(function(child) {\n",
              "                child.on('authorize', data => {\n",
              "                    clearTimeout(timeout)\n",
              "                    resolve(data)\n",
              "                });\n",
              "            });\n",
              "            })\n",
              "        });\n",
              "    "
            ],
            "text/plain": [
              "<IPython.core.display.Javascript object>"
            ]
          },
          "metadata": {}
        },
        {
          "output_type": "stream",
          "name": "stderr",
          "text": [
            "\u001b[34m\u001b[1mwandb\u001b[0m: Appending key for api.wandb.ai to your netrc file: /root/.netrc\n"
          ]
        },
        {
          "output_type": "execute_result",
          "data": {
            "text/plain": [
              "True"
            ]
          },
          "metadata": {},
          "execution_count": 13
        }
      ]
    },
    {
      "cell_type": "markdown",
      "metadata": {
        "id": "NUdQ6BIRUBpW"
      },
      "source": [
        "#Training"
      ]
    },
    {
      "cell_type": "code",
      "metadata": {
        "colab": {
          "base_uri": "https://localhost:8080/",
          "height": 1000,
          "referenced_widgets": [
            "310a13c634e7427aacebe952ce22d34a",
            "07e0da42585947aab52a8e9354569585",
            "dec667e8410f4b7aa599940af0cc1da7",
            "ae0c0c198501441bbf4b9be737db1ccb",
            "9bc09191c11c42bf8b20aa2a048a56d2",
            "ccc7bd48e2fe459bb8a1c1134195cf1f",
            "c1bdfc3ad8d84d18941e2dd5c7119e68",
            "99a0f7a4ddde4d95b18e530070c87642",
            "3f91979e7628445dba420710f9c688e2",
            "2b8de07d46f648df8f8713f5fd6f4e14",
            "45d254c052674c3992a57f39fd882577",
            "cf9a3627d2a54c9c9ece0a77256f546c",
            "40af84a179634e9abd80c2d85108114a",
            "576128556eab4d3cb23763d5ff51641c",
            "7330df935aaa4f929d3d9c186e6b78e5",
            "fd5be981f5ce4fec9f916c5a047213b8",
            "310e828ca5f943b69ceb93b33c247707",
            "9d528d71f43a442886bd19113199ec0b",
            "58ceb07842234844beb9564b091b5327",
            "0bc289d61d5245c9bc10d087377c6fe9",
            "8106ac4de54d442d8cf8db3bcd8b36a8",
            "25ff87708eba4114b576e140b8f87435",
            "92afff3e416142fda46c97fb61364423",
            "df1b755f36894fc8841a59c65a7c8e68",
            "be3c92e6fdb24a479e26404850956dac",
            "9946b13689cc436c8d3093af68ae0012",
            "ed9e3962ffb94bff9d7fb1af19b0ed99",
            "32b6c314ae2f4b138a0390455d92ba39",
            "b9ab48cc55f549c287c618b60f1b5c95",
            "62c35bc28863464eb03a28a526a9aba6",
            "de1b5412613c46d0b039930f8c309a48",
            "f24bbe6033894c48a72afc10c995e898",
            "417e1af8367e43a7995063d89c373c6b",
            "d9c3735f10bf407a8ce2ab873ed46310",
            "26d0246b010d41b5992887be5ba12625",
            "48cf6207ea2d45a48d272e702cd9eecb",
            "90918b36b5b849119eff56c69816dd69",
            "07fa329b078a4c93a0d82aefeaf53b9d",
            "74e56daa4cf6464ab35767ee29c644d6",
            "7ac08b74bc554536aaab289018eb70f2",
            "fef3f14c8ec440c5bd4d18cba042527b",
            "5ce687a260b9403bb6b2d2dc39193e80",
            "65206c6441934828a1054628c0380f9f",
            "391af1b06e0c4c5d9590a4ad9815dbce",
            "4cc9c704571e4b16b89cbbfb6f6ab417",
            "c0f9bed817d94383ab5e0662d7a7f9bb",
            "1cf3beffaf444192b07a944f83aabf42",
            "f8658533f6e24bc39403e9a1c150fbea",
            "3c807b52b4b84c96808f6ce927eba2fc",
            "ee1725932b2e445198efcf94fa09d8a0",
            "368ba2f36b894cf5b85c7d42bf544538",
            "e3ad548bb0b74a9b9c8e9b51f07fa882",
            "ccbff8d86a574156ba491c4d6606f45c",
            "71bed06eb701486cac9de1676f9bf291",
            "8a02884022ea4d2786cae2bfb6399a26",
            "7909bf5079d74460b35b7d07536e22e5",
            "4948a5d8ce1649e8802298b249b6f6f2",
            "5183db86e2fc42cdb18c9e101922c9f2",
            "8dec1e46f4ce4414bfcd77598766dc1c",
            "d9159ce476864da7a660cc017c344d73",
            "fd97dff7b1144a779fa77b6660c84bbc",
            "625a4372d73a476c9a4745c7fe57078c",
            "5e657c43b9ac4b4595cfe1a471e10e17",
            "260df31f643b40d4b82814c5784d8757",
            "d1c84aa169634a90a026da9324dcb7e6",
            "1f3f6ffd605c47e4a896921749c907e6",
            "65815acd69af4e7e987d430fa90dd3c5",
            "9a7e9ace65764e45b9e01ca148fc2f07",
            "08f9d478063b4395ae6e8781e6b7b619",
            "246972485c7f4f258fef83be6adfa876",
            "4dededa8748e46e9aaae92e70c00d6f3",
            "606b782bb9dc4561b8d7d48900912cad"
          ]
        },
        "id": "IOCZ2liPRiAZ",
        "outputId": "24e9cece-cdd7-4aa5-e00b-9a6de0aa437d"
      },
      "source": [
        "device = torch.device('cuda' if torch.cuda.is_available() else 'cpu')\n",
        "print('Using device:', device)\n",
        "\n",
        "model = OneDCNN()\n",
        "\n",
        "loss_function = torch.nn.MSELoss().cuda()\n",
        "optimizer = optim.Adam(model.parameters(), lr=0.001)\n",
        "\n",
        "\n",
        "for fold in k_folds:\n",
        "    split_path = cnn_1d_path+'split_'+ str(fold[0])+'_'+str(fold[1])+ '/'\n",
        "\n",
        "    training_data = CDS_1D_Dataset(split_path+'Y_trn.csv',gen_path)\n",
        "    train_dataloader = DataLoader(training_data, batch_size=64, shuffle=True)\n",
        "    mean, std = mean_std(train_dataloader)\n",
        "\n",
        "    #Data import and normalization\n",
        "    training_data = CDS_1D_Dataset(split_path+'Y_trn.csv', gen_path, transform= transforms.Compose([Normalize1D(mean,std)]))\n",
        "    validation_data = CDS_1D_Dataset(split_path+'Y_vld.csv', gen_path, transform= transforms.Compose([Normalize1D(mean,std)]))\n",
        "    test_data = CDS_1D_Dataset(split_path+'Y_tst.csv', gen_path, transform= transforms.Compose([Normalize1D(mean,std)]))\n",
        "\n",
        "    train_dataloader = DataLoader(training_data, batch_size=64, shuffle=True)\n",
        "    validation_dataloader = DataLoader(validation_data, batch_size=64, shuffle=True)\n",
        "    test_dataloader = DataLoader(test_data, batch_size=64, shuffle=True)\n",
        "\n",
        "    for init_number in range(0,3): #Это я делаю множественную инициализацию весов сети\n",
        "\n",
        "        init_path = split_path + str(init_number)+'/'\n",
        "        os.makedirs(init_path, exist_ok=True)\n",
        "\n",
        "        # Обучение\n",
        "        # критерием остановки является ошибка на валидационном наборе - останавливаемся,\n",
        "        #если в течение 100 эпох (test_stop) ошибка на валидационном наборе (val_loss) не падала\n",
        "\n",
        "        test_stop = 100 #stopping criterion\n",
        "        max_val_loss = 10000.0\n",
        "\n",
        "        wandb.init(project = case_name)\n",
        "\n",
        "        split_name = 'split_'+ str(fold[0])+'_'+str(fold[1])\n",
        "        init_name = '_' + str(init_number)\n",
        "        model_name = '_1D_CNN'\n",
        "        wandb.run.name = split_name + init_name + model_name\n",
        "        wandb.run.save()\n",
        "\n",
        "        for epoch_step in range(0, 1000, test_stop):\n",
        "            \n",
        "            if epoch_step!=0:\n",
        "                checkpoint = torch.load(init_path + 'model'+model_name+'.pth')\n",
        "                model.load_state_dict(checkpoint['model_state_dict'])\n",
        "                optimizer.load_state_dict(checkpoint['optimizer_state_dict'])\n",
        "                last_best_epoch = checkpoint['epoch']\n",
        "                loss = checkpoint['loss']\n",
        "                model.train()\n",
        "                \n",
        "                if last_best_epoch + test_stop > ep:\n",
        "                    for ep in range(epoch_step, epoch_step+test_stop):\n",
        "                        for _, data in enumerate(train_dataloader, 0): # get bacth\n",
        "                            inputs, labels = data # parse batch\n",
        "                            optimizer.zero_grad() # sets the gradients of all optimized tensors to zero.\n",
        "                            outputs = model(inputs) # get outputs\n",
        "                            loss = loss_function(outputs, labels) # calculate loss\n",
        "                            loss.backward() # calculate gradients\n",
        "                            optimizer.step() # performs a single optimization step (parameter update).\n",
        "\n",
        "                        dl = 0\n",
        "                        val_loss = 0.0\n",
        "                        for specs, labels in validation_dataloader: \n",
        "                            val_loss += loss_function(model(specs),labels)\n",
        "                            dl+=1\n",
        "                        val_loss = val_loss/dl\n",
        "                        \n",
        "                        \n",
        "                        if val_loss.item() <= max_val_loss:\n",
        "                            torch.save({'epoch': ep,\n",
        "                              'model_state_dict': model.state_dict(),\n",
        "                              'optimizer_state_dict': optimizer.state_dict(),\n",
        "                              'loss': loss}, init_path + 'model'+model_name+'.pth')\n",
        "                            max_val_loss = val_loss.item()\n",
        "                        wandb.log({\"trn_loss\": loss, \"vld_loss\": val_loss})\n",
        "                else: continue    \n",
        "      \n",
        "            if epoch_step==0:\n",
        "                model.apply(reset_weights)\n",
        "\n",
        "                for ep in range(epoch_step, test_stop):\n",
        "                    for _, data in enumerate(train_dataloader, 0): # get bacth\n",
        "                        inputs, labels = data # parse batch\n",
        "                        optimizer.zero_grad() # sets the gradients of all optimized tensors to zero.\n",
        "                        outputs = model(inputs) # get outputs\n",
        "                        loss = loss_function(outputs, labels) # calculate loss\n",
        "                        loss.backward() # calculate gradients\n",
        "                        optimizer.step() # performs a single optimization step (parameter update).\n",
        "\n",
        "                    dl = 0\n",
        "                    val_loss = 0.0\n",
        "                    for specs, labels in validation_dataloader:\n",
        "                        val_loss += loss_function(model(specs),labels)\n",
        "                        dl+=1\n",
        "                    val_loss = val_loss/dl\n",
        "\n",
        "                    if val_loss.item() <= max_val_loss:\n",
        "                        torch.save({'epoch': ep,\n",
        "                          'model_state_dict': model.state_dict(),\n",
        "                          'optimizer_state_dict': optimizer.state_dict(),\n",
        "                          'loss': loss}, init_path + 'model'+model_name+'.pth')\n",
        "                        max_val_loss = val_loss.item()\n",
        "                    wandb.log({\"trn_loss\": loss, \"vld_loss\": val_loss})\n",
        "\n",
        "        trn_metrics = calculate_metrics(model, train_dataloader)\n",
        "        vld_metrics = calculate_metrics(model, validation_dataloader)\n",
        "        tst_metrics = calculate_metrics(model, test_dataloader)\n",
        "\n",
        "        wandb.log({\"trn_mae\": trn_metrics[0].sum()/4, \"trn_rmse\": trn_metrics[1].sum()/4,\"trn_r2\": trn_metrics[2].sum()/4})\n",
        "        wandb.log({\"vld_mae\": vld_metrics[0].sum()/4, \"vld_rmse\": vld_metrics[1].sum()/4,\"vld_r2\": vld_metrics[2].sum()/4})\n",
        "        wandb.log({\"tst_mae\": tst_metrics[0].sum()/4, \"tst_rmse\": tst_metrics[1].sum()/4,\"tst_r2\": tst_metrics[2].sum()/4})\n",
        "        wandb.log({\"epoch\": ep})\n",
        "\n",
        "        wandb.finish()\n",
        "\n",
        "        write_predictions(model, model_name, init_path, train_dataloader, dset = 'trn')\n",
        "        write_predictions(model, model_name, init_path, validation_dataloader, dset ='vld')\n",
        "        write_predictions(model, model_name, init_path, test_dataloader, dset ='tst')"
      ],
      "execution_count": null,
      "outputs": [
        {
          "output_type": "stream",
          "name": "stdout",
          "text": [
            "Using device: cpu\n"
          ]
        },
        {
          "output_type": "stream",
          "name": "stderr",
          "text": [
            "\u001b[34m\u001b[1mwandb\u001b[0m: Currently logged in as: \u001b[33moe_sarmanova\u001b[0m (use `wandb login --relogin` to force relogin)\n"
          ]
        },
        {
          "output_type": "display_data",
          "data": {
            "text/html": [
              "\n",
              "                    Syncing run <strong><a href=\"https://wandb.ai/oe_sarmanova/1D_CNN_100_0_001_baseline/runs/1mrntc7z\" target=\"_blank\">deft-music-23</a></strong> to <a href=\"https://wandb.ai/oe_sarmanova/1D_CNN_100_0_001_baseline\" target=\"_blank\">Weights & Biases</a> (<a href=\"https://docs.wandb.com/integrations/jupyter.html\" target=\"_blank\">docs</a>).<br/>\n",
              "\n",
              "                "
            ],
            "text/plain": [
              "<IPython.core.display.HTML object>"
            ]
          },
          "metadata": {}
        },
        {
          "output_type": "stream",
          "name": "stderr",
          "text": [
            "\u001b[34m\u001b[1mwandb\u001b[0m: \u001b[33mWARNING\u001b[0m Calling run.save without any arguments is deprecated.Changes to attributes are automatically persisted.\n"
          ]
        },
        {
          "output_type": "stream",
          "name": "stdout",
          "text": [
            "Reset trainable parameters of layer = Conv1d(41, 6, kernel_size=(5,), stride=(1,))\n",
            "Reset trainable parameters of layer = Conv1d(6, 16, kernel_size=(5,), stride=(1,))\n",
            "Reset trainable parameters of layer = Linear(in_features=3904, out_features=160, bias=True)\n",
            "Reset trainable parameters of layer = Linear(in_features=160, out_features=4, bias=True)\n"
          ]
        },
        {
          "output_type": "display_data",
          "data": {
            "text/html": [
              "<br/>Waiting for W&B process to finish, PID 496... <strong style=\"color:green\">(success).</strong>"
            ],
            "text/plain": [
              "<IPython.core.display.HTML object>"
            ]
          },
          "metadata": {}
        },
        {
          "output_type": "display_data",
          "data": {
            "application/vnd.jupyter.widget-view+json": {
              "model_id": "310a13c634e7427aacebe952ce22d34a",
              "version_minor": 0,
              "version_major": 2
            },
            "text/plain": [
              "VBox(children=(Label(value=' 0.00MB of 0.00MB uploaded (0.00MB deduped)\\r'), FloatProgress(value=1.0, max=1.0)…"
            ]
          },
          "metadata": {}
        },
        {
          "output_type": "display_data",
          "data": {
            "text/html": [
              "<style>\n",
              "    table.wandb td:nth-child(1) { padding: 0 10px; text-align: right }\n",
              "    .wandb-row { display: flex; flex-direction: row; flex-wrap: wrap; width: 100% }\n",
              "    .wandb-col { display: flex; flex-direction: column; flex-basis: 100%; flex: 1; padding: 10px; }\n",
              "    </style>\n",
              "<div class=\"wandb-row\"><div class=\"wandb-col\">\n",
              "<h3>Run history:</h3><br/><table class=\"wandb\"><tr><td>epoch</td><td>▁</td></tr><tr><td>trn_loss</td><td>█▂▂▂▂▂▂▁▁▁▁▁▁▁</td></tr><tr><td>trn_mae</td><td>▁</td></tr><tr><td>trn_r2</td><td>▁</td></tr><tr><td>trn_rmse</td><td>▁</td></tr><tr><td>tst_mae</td><td>▁</td></tr><tr><td>tst_r2</td><td>▁</td></tr><tr><td>tst_rmse</td><td>▁</td></tr><tr><td>vld_loss</td><td>█▃▂▂▂▂▂▂▁▁▁▁▂▁</td></tr><tr><td>vld_mae</td><td>▁</td></tr><tr><td>vld_r2</td><td>▁</td></tr><tr><td>vld_rmse</td><td>▁</td></tr></table><br/></div><div class=\"wandb-col\">\n",
              "<h3>Run summary:</h3><br/><table class=\"wandb\"><tr><td>epoch</td><td>13</td></tr><tr><td>trn_loss</td><td>2.94663</td></tr><tr><td>trn_mae</td><td>1.15155</td></tr><tr><td>trn_r2</td><td>1.0</td></tr><tr><td>trn_rmse</td><td>1.39525</td></tr><tr><td>tst_mae</td><td>1.3412</td></tr><tr><td>tst_r2</td><td>0.99999</td></tr><tr><td>tst_rmse</td><td>1.58037</td></tr><tr><td>vld_loss</td><td>2.71674</td></tr><tr><td>vld_mae</td><td>1.22294</td></tr><tr><td>vld_r2</td><td>1.0</td></tr><tr><td>vld_rmse</td><td>1.466</td></tr></table>\n",
              "</div></div>\n",
              "Synced 5 W&B file(s), 0 media file(s), 0 artifact file(s) and 0 other file(s)\n",
              "<br/>Synced <strong style=\"color:#cdcd00\">deft-music-23</strong>: <a href=\"https://wandb.ai/oe_sarmanova/1D_CNN_100_0_001_baseline/runs/1mrntc7z\" target=\"_blank\">https://wandb.ai/oe_sarmanova/1D_CNN_100_0_001_baseline/runs/1mrntc7z</a><br/>\n",
              "Find logs at: <code>./wandb/run-20211207_095753-1mrntc7z/logs</code><br/>\n"
            ],
            "text/plain": [
              "<IPython.core.display.HTML object>"
            ]
          },
          "metadata": {}
        },
        {
          "output_type": "display_data",
          "data": {
            "text/html": [
              "\n",
              "                    Syncing run <strong><a href=\"https://wandb.ai/oe_sarmanova/1D_CNN_100_0_001_baseline/runs/3rzlob3o\" target=\"_blank\">silver-jazz-24</a></strong> to <a href=\"https://wandb.ai/oe_sarmanova/1D_CNN_100_0_001_baseline\" target=\"_blank\">Weights & Biases</a> (<a href=\"https://docs.wandb.com/integrations/jupyter.html\" target=\"_blank\">docs</a>).<br/>\n",
              "\n",
              "                "
            ],
            "text/plain": [
              "<IPython.core.display.HTML object>"
            ]
          },
          "metadata": {}
        },
        {
          "output_type": "stream",
          "name": "stderr",
          "text": [
            "\u001b[34m\u001b[1mwandb\u001b[0m: \u001b[33mWARNING\u001b[0m Calling run.save without any arguments is deprecated.Changes to attributes are automatically persisted.\n"
          ]
        },
        {
          "output_type": "stream",
          "name": "stdout",
          "text": [
            "Reset trainable parameters of layer = Conv1d(41, 6, kernel_size=(5,), stride=(1,))\n",
            "Reset trainable parameters of layer = Conv1d(6, 16, kernel_size=(5,), stride=(1,))\n",
            "Reset trainable parameters of layer = Linear(in_features=3904, out_features=160, bias=True)\n",
            "Reset trainable parameters of layer = Linear(in_features=160, out_features=4, bias=True)\n"
          ]
        },
        {
          "output_type": "display_data",
          "data": {
            "text/html": [
              "<br/>Waiting for W&B process to finish, PID 586... <strong style=\"color:green\">(success).</strong>"
            ],
            "text/plain": [
              "<IPython.core.display.HTML object>"
            ]
          },
          "metadata": {}
        },
        {
          "output_type": "display_data",
          "data": {
            "application/vnd.jupyter.widget-view+json": {
              "model_id": "3f91979e7628445dba420710f9c688e2",
              "version_minor": 0,
              "version_major": 2
            },
            "text/plain": [
              "VBox(children=(Label(value=' 0.00MB of 0.00MB uploaded (0.00MB deduped)\\r'), FloatProgress(value=1.0, max=1.0)…"
            ]
          },
          "metadata": {}
        },
        {
          "output_type": "display_data",
          "data": {
            "text/html": [
              "<style>\n",
              "    table.wandb td:nth-child(1) { padding: 0 10px; text-align: right }\n",
              "    .wandb-row { display: flex; flex-direction: row; flex-wrap: wrap; width: 100% }\n",
              "    .wandb-col { display: flex; flex-direction: column; flex-basis: 100%; flex: 1; padding: 10px; }\n",
              "    </style>\n",
              "<div class=\"wandb-row\"><div class=\"wandb-col\">\n",
              "<h3>Run history:</h3><br/><table class=\"wandb\"><tr><td>epoch</td><td>▁</td></tr><tr><td>trn_loss</td><td>█▆▂▂▁▁</td></tr><tr><td>trn_mae</td><td>▁</td></tr><tr><td>trn_r2</td><td>▁</td></tr><tr><td>trn_rmse</td><td>▁</td></tr><tr><td>tst_mae</td><td>▁</td></tr><tr><td>tst_r2</td><td>▁</td></tr><tr><td>tst_rmse</td><td>▁</td></tr><tr><td>vld_loss</td><td>█▄▁▁▂▁</td></tr><tr><td>vld_mae</td><td>▁</td></tr><tr><td>vld_r2</td><td>▁</td></tr><tr><td>vld_rmse</td><td>▁</td></tr></table><br/></div><div class=\"wandb-col\">\n",
              "<h3>Run summary:</h3><br/><table class=\"wandb\"><tr><td>epoch</td><td>5</td></tr><tr><td>trn_loss</td><td>2.90173</td></tr><tr><td>trn_mae</td><td>1.46785</td></tr><tr><td>trn_r2</td><td>1.0</td></tr><tr><td>trn_rmse</td><td>1.77449</td></tr><tr><td>tst_mae</td><td>1.63509</td></tr><tr><td>tst_r2</td><td>0.99999</td></tr><tr><td>tst_rmse</td><td>1.92942</td></tr><tr><td>vld_loss</td><td>3.74582</td></tr><tr><td>vld_mae</td><td>1.50015</td></tr><tr><td>vld_r2</td><td>1.0</td></tr><tr><td>vld_rmse</td><td>1.78926</td></tr></table>\n",
              "</div></div>\n",
              "Synced 5 W&B file(s), 0 media file(s), 0 artifact file(s) and 0 other file(s)\n",
              "<br/>Synced <strong style=\"color:#cdcd00\">silver-jazz-24</strong>: <a href=\"https://wandb.ai/oe_sarmanova/1D_CNN_100_0_001_baseline/runs/3rzlob3o\" target=\"_blank\">https://wandb.ai/oe_sarmanova/1D_CNN_100_0_001_baseline/runs/3rzlob3o</a><br/>\n",
              "Find logs at: <code>./wandb/run-20211207_100152-3rzlob3o/logs</code><br/>\n"
            ],
            "text/plain": [
              "<IPython.core.display.HTML object>"
            ]
          },
          "metadata": {}
        },
        {
          "output_type": "display_data",
          "data": {
            "text/html": [
              "\n",
              "                    Syncing run <strong><a href=\"https://wandb.ai/oe_sarmanova/1D_CNN_100_0_001_baseline/runs/3arocwde\" target=\"_blank\">sunny-deluge-25</a></strong> to <a href=\"https://wandb.ai/oe_sarmanova/1D_CNN_100_0_001_baseline\" target=\"_blank\">Weights & Biases</a> (<a href=\"https://docs.wandb.com/integrations/jupyter.html\" target=\"_blank\">docs</a>).<br/>\n",
              "\n",
              "                "
            ],
            "text/plain": [
              "<IPython.core.display.HTML object>"
            ]
          },
          "metadata": {}
        },
        {
          "output_type": "stream",
          "name": "stderr",
          "text": [
            "\u001b[34m\u001b[1mwandb\u001b[0m: \u001b[33mWARNING\u001b[0m Calling run.save without any arguments is deprecated.Changes to attributes are automatically persisted.\n"
          ]
        },
        {
          "output_type": "stream",
          "name": "stdout",
          "text": [
            "Reset trainable parameters of layer = Conv1d(41, 6, kernel_size=(5,), stride=(1,))\n",
            "Reset trainable parameters of layer = Conv1d(6, 16, kernel_size=(5,), stride=(1,))\n",
            "Reset trainable parameters of layer = Linear(in_features=3904, out_features=160, bias=True)\n",
            "Reset trainable parameters of layer = Linear(in_features=160, out_features=4, bias=True)\n"
          ]
        },
        {
          "output_type": "display_data",
          "data": {
            "text/html": [
              "<br/>Waiting for W&B process to finish, PID 647... <strong style=\"color:green\">(success).</strong>"
            ],
            "text/plain": [
              "<IPython.core.display.HTML object>"
            ]
          },
          "metadata": {}
        },
        {
          "output_type": "display_data",
          "data": {
            "application/vnd.jupyter.widget-view+json": {
              "model_id": "310e828ca5f943b69ceb93b33c247707",
              "version_minor": 0,
              "version_major": 2
            },
            "text/plain": [
              "VBox(children=(Label(value=' 0.00MB of 0.00MB uploaded (0.00MB deduped)\\r'), FloatProgress(value=1.0, max=1.0)…"
            ]
          },
          "metadata": {}
        },
        {
          "output_type": "display_data",
          "data": {
            "text/html": [
              "<style>\n",
              "    table.wandb td:nth-child(1) { padding: 0 10px; text-align: right }\n",
              "    .wandb-row { display: flex; flex-direction: row; flex-wrap: wrap; width: 100% }\n",
              "    .wandb-col { display: flex; flex-direction: column; flex-basis: 100%; flex: 1; padding: 10px; }\n",
              "    </style>\n",
              "<div class=\"wandb-row\"><div class=\"wandb-col\">\n",
              "<h3>Run history:</h3><br/><table class=\"wandb\"><tr><td>epoch</td><td>▁</td></tr><tr><td>trn_loss</td><td>█▃▂▁▃▁</td></tr><tr><td>trn_mae</td><td>▁</td></tr><tr><td>trn_r2</td><td>▁</td></tr><tr><td>trn_rmse</td><td>▁</td></tr><tr><td>tst_mae</td><td>▁</td></tr><tr><td>tst_r2</td><td>▁</td></tr><tr><td>tst_rmse</td><td>▁</td></tr><tr><td>vld_loss</td><td>█▂▁▁▁▁</td></tr><tr><td>vld_mae</td><td>▁</td></tr><tr><td>vld_r2</td><td>▁</td></tr><tr><td>vld_rmse</td><td>▁</td></tr></table><br/></div><div class=\"wandb-col\">\n",
              "<h3>Run summary:</h3><br/><table class=\"wandb\"><tr><td>epoch</td><td>5</td></tr><tr><td>trn_loss</td><td>3.17991</td></tr><tr><td>trn_mae</td><td>1.42894</td></tr><tr><td>trn_r2</td><td>1.0</td></tr><tr><td>trn_rmse</td><td>1.7194</td></tr><tr><td>tst_mae</td><td>1.62041</td></tr><tr><td>tst_r2</td><td>0.99999</td></tr><tr><td>tst_rmse</td><td>1.90854</td></tr><tr><td>vld_loss</td><td>4.12494</td></tr><tr><td>vld_mae</td><td>1.47835</td></tr><tr><td>vld_r2</td><td>1.0</td></tr><tr><td>vld_rmse</td><td>1.74633</td></tr></table>\n",
              "</div></div>\n",
              "Synced 5 W&B file(s), 0 media file(s), 0 artifact file(s) and 0 other file(s)\n",
              "<br/>Synced <strong style=\"color:#cdcd00\">sunny-deluge-25</strong>: <a href=\"https://wandb.ai/oe_sarmanova/1D_CNN_100_0_001_baseline/runs/3arocwde\" target=\"_blank\">https://wandb.ai/oe_sarmanova/1D_CNN_100_0_001_baseline/runs/3arocwde</a><br/>\n",
              "Find logs at: <code>./wandb/run-20211207_100405-3arocwde/logs</code><br/>\n"
            ],
            "text/plain": [
              "<IPython.core.display.HTML object>"
            ]
          },
          "metadata": {}
        },
        {
          "output_type": "display_data",
          "data": {
            "text/html": [
              "\n",
              "                    Syncing run <strong><a href=\"https://wandb.ai/oe_sarmanova/1D_CNN_100_0_001_baseline/runs/1f19cafr\" target=\"_blank\">lunar-night-26</a></strong> to <a href=\"https://wandb.ai/oe_sarmanova/1D_CNN_100_0_001_baseline\" target=\"_blank\">Weights & Biases</a> (<a href=\"https://docs.wandb.com/integrations/jupyter.html\" target=\"_blank\">docs</a>).<br/>\n",
              "\n",
              "                "
            ],
            "text/plain": [
              "<IPython.core.display.HTML object>"
            ]
          },
          "metadata": {}
        },
        {
          "output_type": "stream",
          "name": "stderr",
          "text": [
            "\u001b[34m\u001b[1mwandb\u001b[0m: \u001b[33mWARNING\u001b[0m Calling run.save without any arguments is deprecated.Changes to attributes are automatically persisted.\n"
          ]
        },
        {
          "output_type": "stream",
          "name": "stdout",
          "text": [
            "Reset trainable parameters of layer = Conv1d(41, 6, kernel_size=(5,), stride=(1,))\n",
            "Reset trainable parameters of layer = Conv1d(6, 16, kernel_size=(5,), stride=(1,))\n",
            "Reset trainable parameters of layer = Linear(in_features=3904, out_features=160, bias=True)\n",
            "Reset trainable parameters of layer = Linear(in_features=160, out_features=4, bias=True)\n"
          ]
        },
        {
          "output_type": "display_data",
          "data": {
            "text/html": [
              "<br/>Waiting for W&B process to finish, PID 716... <strong style=\"color:green\">(success).</strong>"
            ],
            "text/plain": [
              "<IPython.core.display.HTML object>"
            ]
          },
          "metadata": {}
        },
        {
          "output_type": "display_data",
          "data": {
            "application/vnd.jupyter.widget-view+json": {
              "model_id": "be3c92e6fdb24a479e26404850956dac",
              "version_minor": 0,
              "version_major": 2
            },
            "text/plain": [
              "VBox(children=(Label(value=' 0.00MB of 0.00MB uploaded (0.00MB deduped)\\r'), FloatProgress(value=1.0, max=1.0)…"
            ]
          },
          "metadata": {}
        },
        {
          "output_type": "display_data",
          "data": {
            "text/html": [
              "<style>\n",
              "    table.wandb td:nth-child(1) { padding: 0 10px; text-align: right }\n",
              "    .wandb-row { display: flex; flex-direction: row; flex-wrap: wrap; width: 100% }\n",
              "    .wandb-col { display: flex; flex-direction: column; flex-basis: 100%; flex: 1; padding: 10px; }\n",
              "    </style>\n",
              "<div class=\"wandb-row\"><div class=\"wandb-col\">\n",
              "<h3>Run history:</h3><br/><table class=\"wandb\"><tr><td>epoch</td><td>▁</td></tr><tr><td>trn_loss</td><td>█▃▂▁▁▁▂▁▁▁▁▁▁▁▁▁</td></tr><tr><td>trn_mae</td><td>▁</td></tr><tr><td>trn_r2</td><td>▁</td></tr><tr><td>trn_rmse</td><td>▁</td></tr><tr><td>tst_mae</td><td>▁</td></tr><tr><td>tst_r2</td><td>▁</td></tr><tr><td>tst_rmse</td><td>▁</td></tr><tr><td>vld_loss</td><td>█▄▂▂▁▁▁▁▁▁▁▁▁▁▁▁</td></tr><tr><td>vld_mae</td><td>▁</td></tr><tr><td>vld_r2</td><td>▁</td></tr><tr><td>vld_rmse</td><td>▁</td></tr></table><br/></div><div class=\"wandb-col\">\n",
              "<h3>Run summary:</h3><br/><table class=\"wandb\"><tr><td>epoch</td><td>15</td></tr><tr><td>trn_loss</td><td>3.45286</td></tr><tr><td>trn_mae</td><td>1.2088</td></tr><tr><td>trn_r2</td><td>1.0</td></tr><tr><td>trn_rmse</td><td>1.4561</td></tr><tr><td>tst_mae</td><td>1.24844</td></tr><tr><td>tst_r2</td><td>1.0</td></tr><tr><td>tst_rmse</td><td>1.47548</td></tr><tr><td>vld_loss</td><td>3.41688</td></tr><tr><td>vld_mae</td><td>1.26719</td></tr><tr><td>vld_r2</td><td>1.0</td></tr><tr><td>vld_rmse</td><td>1.53122</td></tr></table>\n",
              "</div></div>\n",
              "Synced 5 W&B file(s), 0 media file(s), 0 artifact file(s) and 0 other file(s)\n",
              "<br/>Synced <strong style=\"color:#cdcd00\">lunar-night-26</strong>: <a href=\"https://wandb.ai/oe_sarmanova/1D_CNN_100_0_001_baseline/runs/1f19cafr\" target=\"_blank\">https://wandb.ai/oe_sarmanova/1D_CNN_100_0_001_baseline/runs/1f19cafr</a><br/>\n",
              "Find logs at: <code>./wandb/run-20211207_100638-1f19cafr/logs</code><br/>\n"
            ],
            "text/plain": [
              "<IPython.core.display.HTML object>"
            ]
          },
          "metadata": {}
        },
        {
          "output_type": "display_data",
          "data": {
            "text/html": [
              "\n",
              "                    Syncing run <strong><a href=\"https://wandb.ai/oe_sarmanova/1D_CNN_100_0_001_baseline/runs/242andq2\" target=\"_blank\">happy-night-27</a></strong> to <a href=\"https://wandb.ai/oe_sarmanova/1D_CNN_100_0_001_baseline\" target=\"_blank\">Weights & Biases</a> (<a href=\"https://docs.wandb.com/integrations/jupyter.html\" target=\"_blank\">docs</a>).<br/>\n",
              "\n",
              "                "
            ],
            "text/plain": [
              "<IPython.core.display.HTML object>"
            ]
          },
          "metadata": {}
        },
        {
          "output_type": "stream",
          "name": "stderr",
          "text": [
            "\u001b[34m\u001b[1mwandb\u001b[0m: \u001b[33mWARNING\u001b[0m Calling run.save without any arguments is deprecated.Changes to attributes are automatically persisted.\n"
          ]
        },
        {
          "output_type": "stream",
          "name": "stdout",
          "text": [
            "Reset trainable parameters of layer = Conv1d(41, 6, kernel_size=(5,), stride=(1,))\n",
            "Reset trainable parameters of layer = Conv1d(6, 16, kernel_size=(5,), stride=(1,))\n",
            "Reset trainable parameters of layer = Linear(in_features=3904, out_features=160, bias=True)\n",
            "Reset trainable parameters of layer = Linear(in_features=160, out_features=4, bias=True)\n"
          ]
        },
        {
          "output_type": "display_data",
          "data": {
            "text/html": [
              "<br/>Waiting for W&B process to finish, PID 809... <strong style=\"color:green\">(success).</strong>"
            ],
            "text/plain": [
              "<IPython.core.display.HTML object>"
            ]
          },
          "metadata": {}
        },
        {
          "output_type": "display_data",
          "data": {
            "application/vnd.jupyter.widget-view+json": {
              "model_id": "417e1af8367e43a7995063d89c373c6b",
              "version_minor": 0,
              "version_major": 2
            },
            "text/plain": [
              "VBox(children=(Label(value=' 0.00MB of 0.00MB uploaded (0.00MB deduped)\\r'), FloatProgress(value=1.0, max=1.0)…"
            ]
          },
          "metadata": {}
        },
        {
          "output_type": "display_data",
          "data": {
            "text/html": [
              "<style>\n",
              "    table.wandb td:nth-child(1) { padding: 0 10px; text-align: right }\n",
              "    .wandb-row { display: flex; flex-direction: row; flex-wrap: wrap; width: 100% }\n",
              "    .wandb-col { display: flex; flex-direction: column; flex-basis: 100%; flex: 1; padding: 10px; }\n",
              "    </style>\n",
              "<div class=\"wandb-row\"><div class=\"wandb-col\">\n",
              "<h3>Run history:</h3><br/><table class=\"wandb\"><tr><td>epoch</td><td>▁</td></tr><tr><td>trn_loss</td><td>█▃▄▃▂▂▂▁</td></tr><tr><td>trn_mae</td><td>▁</td></tr><tr><td>trn_r2</td><td>▁</td></tr><tr><td>trn_rmse</td><td>▁</td></tr><tr><td>tst_mae</td><td>▁</td></tr><tr><td>tst_r2</td><td>▁</td></tr><tr><td>tst_rmse</td><td>▁</td></tr><tr><td>vld_loss</td><td>█▂▂▁▂▁▁▁</td></tr><tr><td>vld_mae</td><td>▁</td></tr><tr><td>vld_r2</td><td>▁</td></tr><tr><td>vld_rmse</td><td>▁</td></tr></table><br/></div><div class=\"wandb-col\">\n",
              "<h3>Run summary:</h3><br/><table class=\"wandb\"><tr><td>epoch</td><td>7</td></tr><tr><td>trn_loss</td><td>2.62233</td></tr><tr><td>trn_mae</td><td>1.40934</td></tr><tr><td>trn_r2</td><td>1.0</td></tr><tr><td>trn_rmse</td><td>1.68181</td></tr><tr><td>tst_mae</td><td>1.40321</td></tr><tr><td>tst_r2</td><td>0.99999</td></tr><tr><td>tst_rmse</td><td>1.64705</td></tr><tr><td>vld_loss</td><td>3.98896</td></tr><tr><td>vld_mae</td><td>1.43681</td></tr><tr><td>vld_r2</td><td>1.0</td></tr><tr><td>vld_rmse</td><td>1.73421</td></tr></table>\n",
              "</div></div>\n",
              "Synced 5 W&B file(s), 0 media file(s), 0 artifact file(s) and 0 other file(s)\n",
              "<br/>Synced <strong style=\"color:#cdcd00\">happy-night-27</strong>: <a href=\"https://wandb.ai/oe_sarmanova/1D_CNN_100_0_001_baseline/runs/242andq2\" target=\"_blank\">https://wandb.ai/oe_sarmanova/1D_CNN_100_0_001_baseline/runs/242andq2</a><br/>\n",
              "Find logs at: <code>./wandb/run-20211207_101106-242andq2/logs</code><br/>\n"
            ],
            "text/plain": [
              "<IPython.core.display.HTML object>"
            ]
          },
          "metadata": {}
        },
        {
          "output_type": "display_data",
          "data": {
            "text/html": [
              "\n",
              "                    Syncing run <strong><a href=\"https://wandb.ai/oe_sarmanova/1D_CNN_100_0_001_baseline/runs/3a7dkzwd\" target=\"_blank\">confused-blaze-28</a></strong> to <a href=\"https://wandb.ai/oe_sarmanova/1D_CNN_100_0_001_baseline\" target=\"_blank\">Weights & Biases</a> (<a href=\"https://docs.wandb.com/integrations/jupyter.html\" target=\"_blank\">docs</a>).<br/>\n",
              "\n",
              "                "
            ],
            "text/plain": [
              "<IPython.core.display.HTML object>"
            ]
          },
          "metadata": {}
        },
        {
          "output_type": "stream",
          "name": "stderr",
          "text": [
            "\u001b[34m\u001b[1mwandb\u001b[0m: \u001b[33mWARNING\u001b[0m Calling run.save without any arguments is deprecated.Changes to attributes are automatically persisted.\n"
          ]
        },
        {
          "output_type": "stream",
          "name": "stdout",
          "text": [
            "Reset trainable parameters of layer = Conv1d(41, 6, kernel_size=(5,), stride=(1,))\n",
            "Reset trainable parameters of layer = Conv1d(6, 16, kernel_size=(5,), stride=(1,))\n",
            "Reset trainable parameters of layer = Linear(in_features=3904, out_features=160, bias=True)\n",
            "Reset trainable parameters of layer = Linear(in_features=160, out_features=4, bias=True)\n"
          ]
        },
        {
          "output_type": "display_data",
          "data": {
            "text/html": [
              "<br/>Waiting for W&B process to finish, PID 880... <strong style=\"color:green\">(success).</strong>"
            ],
            "text/plain": [
              "<IPython.core.display.HTML object>"
            ]
          },
          "metadata": {}
        },
        {
          "output_type": "display_data",
          "data": {
            "application/vnd.jupyter.widget-view+json": {
              "model_id": "fef3f14c8ec440c5bd4d18cba042527b",
              "version_minor": 0,
              "version_major": 2
            },
            "text/plain": [
              "VBox(children=(Label(value=' 0.00MB of 0.00MB uploaded (0.00MB deduped)\\r'), FloatProgress(value=1.0, max=1.0)…"
            ]
          },
          "metadata": {}
        },
        {
          "output_type": "display_data",
          "data": {
            "text/html": [
              "<style>\n",
              "    table.wandb td:nth-child(1) { padding: 0 10px; text-align: right }\n",
              "    .wandb-row { display: flex; flex-direction: row; flex-wrap: wrap; width: 100% }\n",
              "    .wandb-col { display: flex; flex-direction: column; flex-basis: 100%; flex: 1; padding: 10px; }\n",
              "    </style>\n",
              "<div class=\"wandb-row\"><div class=\"wandb-col\">\n",
              "<h3>Run history:</h3><br/><table class=\"wandb\"><tr><td>epoch</td><td>▁</td></tr><tr><td>trn_loss</td><td>█▆▂▂▂▁▂▂▁▂</td></tr><tr><td>trn_mae</td><td>▁</td></tr><tr><td>trn_r2</td><td>▁</td></tr><tr><td>trn_rmse</td><td>▁</td></tr><tr><td>tst_mae</td><td>▁</td></tr><tr><td>tst_r2</td><td>▁</td></tr><tr><td>tst_rmse</td><td>▁</td></tr><tr><td>vld_loss</td><td>█▃▃▂▂▁▁▁▁▁</td></tr><tr><td>vld_mae</td><td>▁</td></tr><tr><td>vld_r2</td><td>▁</td></tr><tr><td>vld_rmse</td><td>▁</td></tr></table><br/></div><div class=\"wandb-col\">\n",
              "<h3>Run summary:</h3><br/><table class=\"wandb\"><tr><td>epoch</td><td>9</td></tr><tr><td>trn_loss</td><td>3.64444</td></tr><tr><td>trn_mae</td><td>1.32962</td></tr><tr><td>trn_r2</td><td>1.0</td></tr><tr><td>trn_rmse</td><td>1.59839</td></tr><tr><td>tst_mae</td><td>1.32249</td></tr><tr><td>tst_r2</td><td>1.0</td></tr><tr><td>tst_rmse</td><td>1.58655</td></tr><tr><td>vld_loss</td><td>3.54166</td></tr><tr><td>vld_mae</td><td>1.35796</td></tr><tr><td>vld_r2</td><td>1.0</td></tr><tr><td>vld_rmse</td><td>1.63398</td></tr></table>\n",
              "</div></div>\n",
              "Synced 5 W&B file(s), 0 media file(s), 0 artifact file(s) and 0 other file(s)\n",
              "<br/>Synced <strong style=\"color:#cdcd00\">confused-blaze-28</strong>: <a href=\"https://wandb.ai/oe_sarmanova/1D_CNN_100_0_001_baseline/runs/3a7dkzwd\" target=\"_blank\">https://wandb.ai/oe_sarmanova/1D_CNN_100_0_001_baseline/runs/3a7dkzwd</a><br/>\n",
              "Find logs at: <code>./wandb/run-20211207_101346-3a7dkzwd/logs</code><br/>\n"
            ],
            "text/plain": [
              "<IPython.core.display.HTML object>"
            ]
          },
          "metadata": {}
        },
        {
          "output_type": "display_data",
          "data": {
            "text/html": [
              "\n",
              "                    Syncing run <strong><a href=\"https://wandb.ai/oe_sarmanova/1D_CNN_100_0_001_baseline/runs/d006welr\" target=\"_blank\">icy-feather-29</a></strong> to <a href=\"https://wandb.ai/oe_sarmanova/1D_CNN_100_0_001_baseline\" target=\"_blank\">Weights & Biases</a> (<a href=\"https://docs.wandb.com/integrations/jupyter.html\" target=\"_blank\">docs</a>).<br/>\n",
              "\n",
              "                "
            ],
            "text/plain": [
              "<IPython.core.display.HTML object>"
            ]
          },
          "metadata": {}
        },
        {
          "output_type": "stream",
          "name": "stderr",
          "text": [
            "\u001b[34m\u001b[1mwandb\u001b[0m: \u001b[33mWARNING\u001b[0m Calling run.save without any arguments is deprecated.Changes to attributes are automatically persisted.\n"
          ]
        },
        {
          "output_type": "stream",
          "name": "stdout",
          "text": [
            "Reset trainable parameters of layer = Conv1d(41, 6, kernel_size=(5,), stride=(1,))\n",
            "Reset trainable parameters of layer = Conv1d(6, 16, kernel_size=(5,), stride=(1,))\n",
            "Reset trainable parameters of layer = Linear(in_features=3904, out_features=160, bias=True)\n",
            "Reset trainable parameters of layer = Linear(in_features=160, out_features=4, bias=True)\n"
          ]
        },
        {
          "output_type": "display_data",
          "data": {
            "text/html": [
              "<br/>Waiting for W&B process to finish, PID 964... <strong style=\"color:green\">(success).</strong>"
            ],
            "text/plain": [
              "<IPython.core.display.HTML object>"
            ]
          },
          "metadata": {}
        },
        {
          "output_type": "display_data",
          "data": {
            "application/vnd.jupyter.widget-view+json": {
              "model_id": "3c807b52b4b84c96808f6ce927eba2fc",
              "version_minor": 0,
              "version_major": 2
            },
            "text/plain": [
              "VBox(children=(Label(value=' 0.00MB of 0.00MB uploaded (0.00MB deduped)\\r'), FloatProgress(value=1.0, max=1.0)…"
            ]
          },
          "metadata": {}
        },
        {
          "output_type": "display_data",
          "data": {
            "text/html": [
              "<style>\n",
              "    table.wandb td:nth-child(1) { padding: 0 10px; text-align: right }\n",
              "    .wandb-row { display: flex; flex-direction: row; flex-wrap: wrap; width: 100% }\n",
              "    .wandb-col { display: flex; flex-direction: column; flex-basis: 100%; flex: 1; padding: 10px; }\n",
              "    </style>\n",
              "<div class=\"wandb-row\"><div class=\"wandb-col\">\n",
              "<h3>Run history:</h3><br/><table class=\"wandb\"><tr><td>epoch</td><td>▁</td></tr><tr><td>trn_loss</td><td>█▆▂▁▂▁</td></tr><tr><td>trn_mae</td><td>▁</td></tr><tr><td>trn_r2</td><td>▁</td></tr><tr><td>trn_rmse</td><td>▁</td></tr><tr><td>tst_mae</td><td>▁</td></tr><tr><td>tst_r2</td><td>▁</td></tr><tr><td>tst_rmse</td><td>▁</td></tr><tr><td>vld_loss</td><td>█▄▂▁▁▁</td></tr><tr><td>vld_mae</td><td>▁</td></tr><tr><td>vld_r2</td><td>▁</td></tr><tr><td>vld_rmse</td><td>▁</td></tr></table><br/></div><div class=\"wandb-col\">\n",
              "<h3>Run summary:</h3><br/><table class=\"wandb\"><tr><td>epoch</td><td>5</td></tr><tr><td>trn_loss</td><td>2.8613</td></tr><tr><td>trn_mae</td><td>1.47909</td></tr><tr><td>trn_r2</td><td>1.0</td></tr><tr><td>trn_rmse</td><td>1.76035</td></tr><tr><td>tst_mae</td><td>1.54029</td></tr><tr><td>tst_r2</td><td>0.99999</td></tr><tr><td>tst_rmse</td><td>1.80574</td></tr><tr><td>vld_loss</td><td>4.21472</td></tr><tr><td>vld_mae</td><td>1.5776</td></tr><tr><td>vld_r2</td><td>1.0</td></tr><tr><td>vld_rmse</td><td>1.89483</td></tr></table>\n",
              "</div></div>\n",
              "Synced 5 W&B file(s), 0 media file(s), 0 artifact file(s) and 0 other file(s)\n",
              "<br/>Synced <strong style=\"color:#cdcd00\">icy-feather-29</strong>: <a href=\"https://wandb.ai/oe_sarmanova/1D_CNN_100_0_001_baseline/runs/d006welr\" target=\"_blank\">https://wandb.ai/oe_sarmanova/1D_CNN_100_0_001_baseline/runs/d006welr</a><br/>\n",
              "Find logs at: <code>./wandb/run-20211207_101711-d006welr/logs</code><br/>\n"
            ],
            "text/plain": [
              "<IPython.core.display.HTML object>"
            ]
          },
          "metadata": {}
        },
        {
          "output_type": "display_data",
          "data": {
            "text/html": [
              "\n",
              "                    Syncing run <strong><a href=\"https://wandb.ai/oe_sarmanova/1D_CNN_100_0_001_baseline/runs/2b0d3jj0\" target=\"_blank\">clear-oath-30</a></strong> to <a href=\"https://wandb.ai/oe_sarmanova/1D_CNN_100_0_001_baseline\" target=\"_blank\">Weights & Biases</a> (<a href=\"https://docs.wandb.com/integrations/jupyter.html\" target=\"_blank\">docs</a>).<br/>\n",
              "\n",
              "                "
            ],
            "text/plain": [
              "<IPython.core.display.HTML object>"
            ]
          },
          "metadata": {}
        },
        {
          "output_type": "stream",
          "name": "stderr",
          "text": [
            "\u001b[34m\u001b[1mwandb\u001b[0m: \u001b[33mWARNING\u001b[0m Calling run.save without any arguments is deprecated.Changes to attributes are automatically persisted.\n"
          ]
        },
        {
          "output_type": "stream",
          "name": "stdout",
          "text": [
            "Reset trainable parameters of layer = Conv1d(41, 6, kernel_size=(5,), stride=(1,))\n",
            "Reset trainable parameters of layer = Conv1d(6, 16, kernel_size=(5,), stride=(1,))\n",
            "Reset trainable parameters of layer = Linear(in_features=3904, out_features=160, bias=True)\n",
            "Reset trainable parameters of layer = Linear(in_features=160, out_features=4, bias=True)\n"
          ]
        },
        {
          "output_type": "display_data",
          "data": {
            "text/html": [
              "<br/>Waiting for W&B process to finish, PID 1029... <strong style=\"color:green\">(success).</strong>"
            ],
            "text/plain": [
              "<IPython.core.display.HTML object>"
            ]
          },
          "metadata": {}
        },
        {
          "output_type": "display_data",
          "data": {
            "application/vnd.jupyter.widget-view+json": {
              "model_id": "4948a5d8ce1649e8802298b249b6f6f2",
              "version_minor": 0,
              "version_major": 2
            },
            "text/plain": [
              "VBox(children=(Label(value=' 0.00MB of 0.00MB uploaded (0.00MB deduped)\\r'), FloatProgress(value=1.0, max=1.0)…"
            ]
          },
          "metadata": {}
        },
        {
          "output_type": "display_data",
          "data": {
            "text/html": [
              "<style>\n",
              "    table.wandb td:nth-child(1) { padding: 0 10px; text-align: right }\n",
              "    .wandb-row { display: flex; flex-direction: row; flex-wrap: wrap; width: 100% }\n",
              "    .wandb-col { display: flex; flex-direction: column; flex-basis: 100%; flex: 1; padding: 10px; }\n",
              "    </style>\n",
              "<div class=\"wandb-row\"><div class=\"wandb-col\">\n",
              "<h3>Run history:</h3><br/><table class=\"wandb\"><tr><td>epoch</td><td>▁</td></tr><tr><td>trn_loss</td><td>█▇▂▂▁▁▁▁▁▁▁▁</td></tr><tr><td>trn_mae</td><td>▁</td></tr><tr><td>trn_r2</td><td>▁</td></tr><tr><td>trn_rmse</td><td>▁</td></tr><tr><td>tst_mae</td><td>▁</td></tr><tr><td>tst_r2</td><td>▁</td></tr><tr><td>tst_rmse</td><td>▁</td></tr><tr><td>vld_loss</td><td>█▄▃▂▁▁▁▂▁▁▁▁</td></tr><tr><td>vld_mae</td><td>▁</td></tr><tr><td>vld_r2</td><td>▁</td></tr><tr><td>vld_rmse</td><td>▁</td></tr></table><br/></div><div class=\"wandb-col\">\n",
              "<h3>Run summary:</h3><br/><table class=\"wandb\"><tr><td>epoch</td><td>11</td></tr><tr><td>trn_loss</td><td>3.46641</td></tr><tr><td>trn_mae</td><td>1.34562</td></tr><tr><td>trn_r2</td><td>1.0</td></tr><tr><td>trn_rmse</td><td>1.60732</td></tr><tr><td>tst_mae</td><td>1.43011</td></tr><tr><td>tst_r2</td><td>0.99999</td></tr><tr><td>tst_rmse</td><td>1.68101</td></tr><tr><td>vld_loss</td><td>4.256</td></tr><tr><td>vld_mae</td><td>1.44296</td></tr><tr><td>vld_r2</td><td>1.0</td></tr><tr><td>vld_rmse</td><td>1.73566</td></tr></table>\n",
              "</div></div>\n",
              "Synced 5 W&B file(s), 0 media file(s), 0 artifact file(s) and 0 other file(s)\n",
              "<br/>Synced <strong style=\"color:#cdcd00\">clear-oath-30</strong>: <a href=\"https://wandb.ai/oe_sarmanova/1D_CNN_100_0_001_baseline/runs/2b0d3jj0\" target=\"_blank\">https://wandb.ai/oe_sarmanova/1D_CNN_100_0_001_baseline/runs/2b0d3jj0</a><br/>\n",
              "Find logs at: <code>./wandb/run-20211207_101923-2b0d3jj0/logs</code><br/>\n"
            ],
            "text/plain": [
              "<IPython.core.display.HTML object>"
            ]
          },
          "metadata": {}
        },
        {
          "output_type": "display_data",
          "data": {
            "text/html": [
              "\n",
              "                    Syncing run <strong><a href=\"https://wandb.ai/oe_sarmanova/1D_CNN_100_0_001_baseline/runs/1yw5t28m\" target=\"_blank\">vocal-brook-31</a></strong> to <a href=\"https://wandb.ai/oe_sarmanova/1D_CNN_100_0_001_baseline\" target=\"_blank\">Weights & Biases</a> (<a href=\"https://docs.wandb.com/integrations/jupyter.html\" target=\"_blank\">docs</a>).<br/>\n",
              "\n",
              "                "
            ],
            "text/plain": [
              "<IPython.core.display.HTML object>"
            ]
          },
          "metadata": {}
        },
        {
          "output_type": "stream",
          "name": "stderr",
          "text": [
            "\u001b[34m\u001b[1mwandb\u001b[0m: \u001b[33mWARNING\u001b[0m Calling run.save without any arguments is deprecated.Changes to attributes are automatically persisted.\n"
          ]
        },
        {
          "output_type": "stream",
          "name": "stdout",
          "text": [
            "Reset trainable parameters of layer = Conv1d(41, 6, kernel_size=(5,), stride=(1,))\n",
            "Reset trainable parameters of layer = Conv1d(6, 16, kernel_size=(5,), stride=(1,))\n",
            "Reset trainable parameters of layer = Linear(in_features=3904, out_features=160, bias=True)\n",
            "Reset trainable parameters of layer = Linear(in_features=160, out_features=4, bias=True)\n"
          ]
        },
        {
          "output_type": "display_data",
          "data": {
            "text/html": [
              "<br/>Waiting for W&B process to finish, PID 1108... <strong style=\"color:green\">(success).</strong>"
            ],
            "text/plain": [
              "<IPython.core.display.HTML object>"
            ]
          },
          "metadata": {}
        },
        {
          "output_type": "display_data",
          "data": {
            "application/vnd.jupyter.widget-view+json": {
              "model_id": "d1c84aa169634a90a026da9324dcb7e6",
              "version_minor": 0,
              "version_major": 2
            },
            "text/plain": [
              "VBox(children=(Label(value=' 0.00MB of 0.00MB uploaded (0.00MB deduped)\\r'), FloatProgress(value=1.0, max=1.0)…"
            ]
          },
          "metadata": {}
        },
        {
          "output_type": "display_data",
          "data": {
            "text/html": [
              "<style>\n",
              "    table.wandb td:nth-child(1) { padding: 0 10px; text-align: right }\n",
              "    .wandb-row { display: flex; flex-direction: row; flex-wrap: wrap; width: 100% }\n",
              "    .wandb-col { display: flex; flex-direction: column; flex-basis: 100%; flex: 1; padding: 10px; }\n",
              "    </style>\n",
              "<div class=\"wandb-row\"><div class=\"wandb-col\">\n",
              "<h3>Run history:</h3><br/><table class=\"wandb\"><tr><td>epoch</td><td>▁</td></tr><tr><td>trn_loss</td><td>█▂▂▁▁▁</td></tr><tr><td>trn_mae</td><td>▁</td></tr><tr><td>trn_r2</td><td>▁</td></tr><tr><td>trn_rmse</td><td>▁</td></tr><tr><td>tst_mae</td><td>▁</td></tr><tr><td>tst_r2</td><td>▁</td></tr><tr><td>tst_rmse</td><td>▁</td></tr><tr><td>vld_loss</td><td>█▂▂▁▁▁</td></tr><tr><td>vld_mae</td><td>▁</td></tr><tr><td>vld_r2</td><td>▁</td></tr><tr><td>vld_rmse</td><td>▁</td></tr></table><br/></div><div class=\"wandb-col\">\n",
              "<h3>Run summary:</h3><br/><table class=\"wandb\"><tr><td>epoch</td><td>5</td></tr><tr><td>trn_loss</td><td>4.05717</td></tr><tr><td>trn_mae</td><td>1.458</td></tr><tr><td>trn_r2</td><td>1.0</td></tr><tr><td>trn_rmse</td><td>1.7561</td></tr><tr><td>tst_mae</td><td>1.53454</td></tr><tr><td>tst_r2</td><td>0.99999</td></tr><tr><td>tst_rmse</td><td>1.8416</td></tr><tr><td>vld_loss</td><td>4.30874</td></tr><tr><td>vld_mae</td><td>1.53732</td></tr><tr><td>vld_r2</td><td>1.0</td></tr><tr><td>vld_rmse</td><td>1.8903</td></tr></table>\n",
              "</div></div>\n",
              "Synced 5 W&B file(s), 0 media file(s), 0 artifact file(s) and 0 other file(s)\n",
              "<br/>Synced <strong style=\"color:#cdcd00\">vocal-brook-31</strong>: <a href=\"https://wandb.ai/oe_sarmanova/1D_CNN_100_0_001_baseline/runs/1yw5t28m\" target=\"_blank\">https://wandb.ai/oe_sarmanova/1D_CNN_100_0_001_baseline/runs/1yw5t28m</a><br/>\n",
              "Find logs at: <code>./wandb/run-20211207_102253-1yw5t28m/logs</code><br/>\n"
            ],
            "text/plain": [
              "<IPython.core.display.HTML object>"
            ]
          },
          "metadata": {}
        },
        {
          "output_type": "display_data",
          "data": {
            "text/html": [
              "\n",
              "                    Syncing run <strong><a href=\"https://wandb.ai/oe_sarmanova/1D_CNN_100_0_001_baseline/runs/2n0mqs1g\" target=\"_blank\">pretty-plasma-32</a></strong> to <a href=\"https://wandb.ai/oe_sarmanova/1D_CNN_100_0_001_baseline\" target=\"_blank\">Weights & Biases</a> (<a href=\"https://docs.wandb.com/integrations/jupyter.html\" target=\"_blank\">docs</a>).<br/>\n",
              "\n",
              "                "
            ],
            "text/plain": [
              "<IPython.core.display.HTML object>"
            ]
          },
          "metadata": {}
        },
        {
          "output_type": "stream",
          "name": "stderr",
          "text": [
            "\u001b[34m\u001b[1mwandb\u001b[0m: \u001b[33mWARNING\u001b[0m Calling run.save without any arguments is deprecated.Changes to attributes are automatically persisted.\n"
          ]
        },
        {
          "output_type": "stream",
          "name": "stdout",
          "text": [
            "Reset trainable parameters of layer = Conv1d(41, 6, kernel_size=(5,), stride=(1,))\n",
            "Reset trainable parameters of layer = Conv1d(6, 16, kernel_size=(5,), stride=(1,))\n",
            "Reset trainable parameters of layer = Linear(in_features=3904, out_features=160, bias=True)\n",
            "Reset trainable parameters of layer = Linear(in_features=160, out_features=4, bias=True)\n"
          ]
        },
        {
          "output_type": "error",
          "ename": "KeyboardInterrupt",
          "evalue": "ignored",
          "traceback": [
            "\u001b[0;31m---------------------------------------------------------------------------\u001b[0m",
            "\u001b[0;31mKeyboardInterrupt\u001b[0m                         Traceback (most recent call last)",
            "\u001b[0;32m<ipython-input-16-3363eaa3f309>\u001b[0m in \u001b[0;36m<module>\u001b[0;34m()\u001b[0m\n\u001b[1;32m     67\u001b[0m                         \u001b[0mval_loss\u001b[0m \u001b[0;34m=\u001b[0m \u001b[0;36m0.0\u001b[0m\u001b[0;34m\u001b[0m\u001b[0;34m\u001b[0m\u001b[0m\n\u001b[1;32m     68\u001b[0m                         \u001b[0;32mfor\u001b[0m \u001b[0mspecs\u001b[0m\u001b[0;34m,\u001b[0m \u001b[0mlabels\u001b[0m \u001b[0;32min\u001b[0m \u001b[0mvalidation_dataloader\u001b[0m\u001b[0;34m:\u001b[0m\u001b[0;34m\u001b[0m\u001b[0;34m\u001b[0m\u001b[0m\n\u001b[0;32m---> 69\u001b[0;31m                             \u001b[0mval_loss\u001b[0m \u001b[0;34m+=\u001b[0m \u001b[0mloss_function\u001b[0m\u001b[0;34m(\u001b[0m\u001b[0mmodel\u001b[0m\u001b[0;34m(\u001b[0m\u001b[0mspecs\u001b[0m\u001b[0;34m)\u001b[0m\u001b[0;34m,\u001b[0m\u001b[0mlabels\u001b[0m\u001b[0;34m)\u001b[0m\u001b[0;34m\u001b[0m\u001b[0;34m\u001b[0m\u001b[0m\n\u001b[0m\u001b[1;32m     70\u001b[0m                             \u001b[0mdl\u001b[0m\u001b[0;34m+=\u001b[0m\u001b[0;36m1\u001b[0m\u001b[0;34m\u001b[0m\u001b[0;34m\u001b[0m\u001b[0m\n\u001b[1;32m     71\u001b[0m                         \u001b[0mval_loss\u001b[0m \u001b[0;34m=\u001b[0m \u001b[0mval_loss\u001b[0m\u001b[0;34m/\u001b[0m\u001b[0mdl\u001b[0m\u001b[0;34m\u001b[0m\u001b[0;34m\u001b[0m\u001b[0m\n",
            "\u001b[0;32m/usr/local/lib/python3.7/dist-packages/torch/nn/modules/module.py\u001b[0m in \u001b[0;36m_call_impl\u001b[0;34m(self, *input, **kwargs)\u001b[0m\n\u001b[1;32m   1100\u001b[0m         if not (self._backward_hooks or self._forward_hooks or self._forward_pre_hooks or _global_backward_hooks\n\u001b[1;32m   1101\u001b[0m                 or _global_forward_hooks or _global_forward_pre_hooks):\n\u001b[0;32m-> 1102\u001b[0;31m             \u001b[0;32mreturn\u001b[0m \u001b[0mforward_call\u001b[0m\u001b[0;34m(\u001b[0m\u001b[0;34m*\u001b[0m\u001b[0minput\u001b[0m\u001b[0;34m,\u001b[0m \u001b[0;34m**\u001b[0m\u001b[0mkwargs\u001b[0m\u001b[0;34m)\u001b[0m\u001b[0;34m\u001b[0m\u001b[0;34m\u001b[0m\u001b[0m\n\u001b[0m\u001b[1;32m   1103\u001b[0m         \u001b[0;31m# Do not call functions when jit is used\u001b[0m\u001b[0;34m\u001b[0m\u001b[0;34m\u001b[0m\u001b[0;34m\u001b[0m\u001b[0m\n\u001b[1;32m   1104\u001b[0m         \u001b[0mfull_backward_hooks\u001b[0m\u001b[0;34m,\u001b[0m \u001b[0mnon_full_backward_hooks\u001b[0m \u001b[0;34m=\u001b[0m \u001b[0;34m[\u001b[0m\u001b[0;34m]\u001b[0m\u001b[0;34m,\u001b[0m \u001b[0;34m[\u001b[0m\u001b[0;34m]\u001b[0m\u001b[0;34m\u001b[0m\u001b[0;34m\u001b[0m\u001b[0m\n",
            "\u001b[0;32m<ipython-input-7-11c26ce40313>\u001b[0m in \u001b[0;36mforward\u001b[0;34m(self, x)\u001b[0m\n\u001b[1;32m     19\u001b[0m \u001b[0;34m\u001b[0m\u001b[0m\n\u001b[1;32m     20\u001b[0m     \u001b[0;32mdef\u001b[0m \u001b[0mforward\u001b[0m\u001b[0;34m(\u001b[0m\u001b[0mself\u001b[0m\u001b[0;34m,\u001b[0m \u001b[0mx\u001b[0m\u001b[0;34m)\u001b[0m\u001b[0;34m:\u001b[0m\u001b[0;34m\u001b[0m\u001b[0;34m\u001b[0m\u001b[0m\n\u001b[0;32m---> 21\u001b[0;31m         \u001b[0;32mreturn\u001b[0m \u001b[0mself\u001b[0m\u001b[0;34m.\u001b[0m\u001b[0mlayers\u001b[0m\u001b[0;34m(\u001b[0m\u001b[0mx\u001b[0m\u001b[0;34m)\u001b[0m\u001b[0;34m\u001b[0m\u001b[0;34m\u001b[0m\u001b[0m\n\u001b[0m",
            "\u001b[0;32m/usr/local/lib/python3.7/dist-packages/torch/nn/modules/module.py\u001b[0m in \u001b[0;36m_call_impl\u001b[0;34m(self, *input, **kwargs)\u001b[0m\n\u001b[1;32m   1100\u001b[0m         if not (self._backward_hooks or self._forward_hooks or self._forward_pre_hooks or _global_backward_hooks\n\u001b[1;32m   1101\u001b[0m                 or _global_forward_hooks or _global_forward_pre_hooks):\n\u001b[0;32m-> 1102\u001b[0;31m             \u001b[0;32mreturn\u001b[0m \u001b[0mforward_call\u001b[0m\u001b[0;34m(\u001b[0m\u001b[0;34m*\u001b[0m\u001b[0minput\u001b[0m\u001b[0;34m,\u001b[0m \u001b[0;34m**\u001b[0m\u001b[0mkwargs\u001b[0m\u001b[0;34m)\u001b[0m\u001b[0;34m\u001b[0m\u001b[0;34m\u001b[0m\u001b[0m\n\u001b[0m\u001b[1;32m   1103\u001b[0m         \u001b[0;31m# Do not call functions when jit is used\u001b[0m\u001b[0;34m\u001b[0m\u001b[0;34m\u001b[0m\u001b[0;34m\u001b[0m\u001b[0m\n\u001b[1;32m   1104\u001b[0m         \u001b[0mfull_backward_hooks\u001b[0m\u001b[0;34m,\u001b[0m \u001b[0mnon_full_backward_hooks\u001b[0m \u001b[0;34m=\u001b[0m \u001b[0;34m[\u001b[0m\u001b[0;34m]\u001b[0m\u001b[0;34m,\u001b[0m \u001b[0;34m[\u001b[0m\u001b[0;34m]\u001b[0m\u001b[0;34m\u001b[0m\u001b[0;34m\u001b[0m\u001b[0m\n",
            "\u001b[0;32m/usr/local/lib/python3.7/dist-packages/torch/nn/modules/container.py\u001b[0m in \u001b[0;36mforward\u001b[0;34m(self, input)\u001b[0m\n\u001b[1;32m    139\u001b[0m     \u001b[0;32mdef\u001b[0m \u001b[0mforward\u001b[0m\u001b[0;34m(\u001b[0m\u001b[0mself\u001b[0m\u001b[0;34m,\u001b[0m \u001b[0minput\u001b[0m\u001b[0;34m)\u001b[0m\u001b[0;34m:\u001b[0m\u001b[0;34m\u001b[0m\u001b[0;34m\u001b[0m\u001b[0m\n\u001b[1;32m    140\u001b[0m         \u001b[0;32mfor\u001b[0m \u001b[0mmodule\u001b[0m \u001b[0;32min\u001b[0m \u001b[0mself\u001b[0m\u001b[0;34m:\u001b[0m\u001b[0;34m\u001b[0m\u001b[0;34m\u001b[0m\u001b[0m\n\u001b[0;32m--> 141\u001b[0;31m             \u001b[0minput\u001b[0m \u001b[0;34m=\u001b[0m \u001b[0mmodule\u001b[0m\u001b[0;34m(\u001b[0m\u001b[0minput\u001b[0m\u001b[0;34m)\u001b[0m\u001b[0;34m\u001b[0m\u001b[0;34m\u001b[0m\u001b[0m\n\u001b[0m\u001b[1;32m    142\u001b[0m         \u001b[0;32mreturn\u001b[0m \u001b[0minput\u001b[0m\u001b[0;34m\u001b[0m\u001b[0;34m\u001b[0m\u001b[0m\n\u001b[1;32m    143\u001b[0m \u001b[0;34m\u001b[0m\u001b[0m\n",
            "\u001b[0;32m/usr/local/lib/python3.7/dist-packages/torch/nn/modules/module.py\u001b[0m in \u001b[0;36m_call_impl\u001b[0;34m(self, *input, **kwargs)\u001b[0m\n\u001b[1;32m   1100\u001b[0m         if not (self._backward_hooks or self._forward_hooks or self._forward_pre_hooks or _global_backward_hooks\n\u001b[1;32m   1101\u001b[0m                 or _global_forward_hooks or _global_forward_pre_hooks):\n\u001b[0;32m-> 1102\u001b[0;31m             \u001b[0;32mreturn\u001b[0m \u001b[0mforward_call\u001b[0m\u001b[0;34m(\u001b[0m\u001b[0;34m*\u001b[0m\u001b[0minput\u001b[0m\u001b[0;34m,\u001b[0m \u001b[0;34m**\u001b[0m\u001b[0mkwargs\u001b[0m\u001b[0;34m)\u001b[0m\u001b[0;34m\u001b[0m\u001b[0;34m\u001b[0m\u001b[0m\n\u001b[0m\u001b[1;32m   1103\u001b[0m         \u001b[0;31m# Do not call functions when jit is used\u001b[0m\u001b[0;34m\u001b[0m\u001b[0;34m\u001b[0m\u001b[0;34m\u001b[0m\u001b[0m\n\u001b[1;32m   1104\u001b[0m         \u001b[0mfull_backward_hooks\u001b[0m\u001b[0;34m,\u001b[0m \u001b[0mnon_full_backward_hooks\u001b[0m \u001b[0;34m=\u001b[0m \u001b[0;34m[\u001b[0m\u001b[0;34m]\u001b[0m\u001b[0;34m,\u001b[0m \u001b[0;34m[\u001b[0m\u001b[0;34m]\u001b[0m\u001b[0;34m\u001b[0m\u001b[0;34m\u001b[0m\u001b[0m\n",
            "\u001b[0;32m/usr/local/lib/python3.7/dist-packages/torch/nn/modules/conv.py\u001b[0m in \u001b[0;36mforward\u001b[0;34m(self, input)\u001b[0m\n\u001b[1;32m    299\u001b[0m \u001b[0;34m\u001b[0m\u001b[0m\n\u001b[1;32m    300\u001b[0m     \u001b[0;32mdef\u001b[0m \u001b[0mforward\u001b[0m\u001b[0;34m(\u001b[0m\u001b[0mself\u001b[0m\u001b[0;34m,\u001b[0m \u001b[0minput\u001b[0m\u001b[0;34m:\u001b[0m \u001b[0mTensor\u001b[0m\u001b[0;34m)\u001b[0m \u001b[0;34m->\u001b[0m \u001b[0mTensor\u001b[0m\u001b[0;34m:\u001b[0m\u001b[0;34m\u001b[0m\u001b[0;34m\u001b[0m\u001b[0m\n\u001b[0;32m--> 301\u001b[0;31m         \u001b[0;32mreturn\u001b[0m \u001b[0mself\u001b[0m\u001b[0;34m.\u001b[0m\u001b[0m_conv_forward\u001b[0m\u001b[0;34m(\u001b[0m\u001b[0minput\u001b[0m\u001b[0;34m,\u001b[0m \u001b[0mself\u001b[0m\u001b[0;34m.\u001b[0m\u001b[0mweight\u001b[0m\u001b[0;34m,\u001b[0m \u001b[0mself\u001b[0m\u001b[0;34m.\u001b[0m\u001b[0mbias\u001b[0m\u001b[0;34m)\u001b[0m\u001b[0;34m\u001b[0m\u001b[0;34m\u001b[0m\u001b[0m\n\u001b[0m\u001b[1;32m    302\u001b[0m \u001b[0;34m\u001b[0m\u001b[0m\n\u001b[1;32m    303\u001b[0m \u001b[0;34m\u001b[0m\u001b[0m\n",
            "\u001b[0;32m/usr/local/lib/python3.7/dist-packages/torch/nn/modules/conv.py\u001b[0m in \u001b[0;36m_conv_forward\u001b[0;34m(self, input, weight, bias)\u001b[0m\n\u001b[1;32m    296\u001b[0m                             _single(0), self.dilation, self.groups)\n\u001b[1;32m    297\u001b[0m         return F.conv1d(input, weight, bias, self.stride,\n\u001b[0;32m--> 298\u001b[0;31m                         self.padding, self.dilation, self.groups)\n\u001b[0m\u001b[1;32m    299\u001b[0m \u001b[0;34m\u001b[0m\u001b[0m\n\u001b[1;32m    300\u001b[0m     \u001b[0;32mdef\u001b[0m \u001b[0mforward\u001b[0m\u001b[0;34m(\u001b[0m\u001b[0mself\u001b[0m\u001b[0;34m,\u001b[0m \u001b[0minput\u001b[0m\u001b[0;34m:\u001b[0m \u001b[0mTensor\u001b[0m\u001b[0;34m)\u001b[0m \u001b[0;34m->\u001b[0m \u001b[0mTensor\u001b[0m\u001b[0;34m:\u001b[0m\u001b[0;34m\u001b[0m\u001b[0;34m\u001b[0m\u001b[0m\n",
            "\u001b[0;31mKeyboardInterrupt\u001b[0m: "
          ]
        }
      ]
    }
  ]
}